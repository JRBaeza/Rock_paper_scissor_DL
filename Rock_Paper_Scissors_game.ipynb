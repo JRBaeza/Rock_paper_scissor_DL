{
  "nbformat": 4,
  "nbformat_minor": 0,
  "metadata": {
    "colab": {
      "provenance": [],
      "gpuType": "T4"
    },
    "kernelspec": {
      "name": "python3",
      "display_name": "Python 3"
    },
    "language_info": {
      "name": "python"
    },
    "accelerator": "GPU"
  },
  "cells": [
    {
      "cell_type": "markdown",
      "source": [
        "# Rock-Paper-Scissors game"
      ],
      "metadata": {
        "id": "XcvYViAhhK6Y"
      }
    },
    {
      "cell_type": "markdown",
      "source": [
        "### Preprocesamiento y carga de datos"
      ],
      "metadata": {
        "id": "Hil5MdrcwtC5"
      }
    },
    {
      "cell_type": "markdown",
      "source": [
        "Comenzaremos dandole los permisos necesarios para que Google Colab puede acceder a Google Drive. Seguidamente, generaremos las rutas pertenecientes a nuestros archivos que se encuentran en el propio Drive."
      ],
      "metadata": {
        "id": "H53euet1wRww"
      }
    },
    {
      "cell_type": "code",
      "source": [
        "from google.colab import drive\n",
        "drive.mount('/content/drive')"
      ],
      "metadata": {
        "id": "k5dfyXh-vDVj",
        "colab": {
          "base_uri": "https://localhost:8080/"
        },
        "outputId": "39923163-8970-42dd-8731-1a8cfbfb4ca5"
      },
      "execution_count": 2,
      "outputs": [
        {
          "output_type": "stream",
          "name": "stdout",
          "text": [
            "Drive already mounted at /content/drive; to attempt to forcibly remount, call drive.mount(\"/content/drive\", force_remount=True).\n"
          ]
        }
      ]
    },
    {
      "cell_type": "markdown",
      "source": [
        "Una vez montado y conectado nuestro notebook y dado los permisos necesarios para acceder a nuestra Unidad de Drive, generaremos las rutas sobre las que trabajaremos."
      ],
      "metadata": {
        "id": "wN_mpXHlvYQ4"
      }
    },
    {
      "cell_type": "code",
      "source": [
        "dataset_path = \"/content/drive/MyDrive/Tarea_final/Dataset\""
      ],
      "metadata": {
        "id": "oSgLoJVRvk97"
      },
      "execution_count": 3,
      "outputs": []
    },
    {
      "cell_type": "markdown",
      "source": [
        "A continuación, debido al tamaño de nuestro dataset, debemos dividrlo por lotes, puesto que sino sería muy pesado en memoría. Para ello haremos uso de la función *Sequence* de Keras que nos ayudará a controlar la carga de los datos y mejorar el procesamiento de los mismos."
      ],
      "metadata": {
        "id": "iG6r1cvYw5As"
      }
    },
    {
      "cell_type": "code",
      "source": [
        "import numpy as np\n",
        "import tensorflow as tf\n",
        "from tensorflow.keras.utils import Sequence\n",
        "import cv2\n",
        "import os\n",
        "\n",
        "class RPSSequence(Sequence):\n",
        "    def __init__(self, image_paths, labels, batch_size, target_size=(200, 300)):\n",
        "        self.image_paths = image_paths\n",
        "        self.labels = labels\n",
        "        self.batch_size = batch_size\n",
        "        self.target_size = target_size\n",
        "\n",
        "    def __len__(self):\n",
        "        nLotes = int(np.ceil(len(self.image_paths) / self.batch_size))\n",
        "        print(\"El número de lotes es de: \", nLotes)\n",
        "        return nLotes\n",
        "\n",
        "    def __getitem__(self, idx):\n",
        "        batch_paths = self.image_paths[idx * self.batch_size : (idx+1) * self.batch_size]\n",
        "        batch_labels = self.labels[idx * self.batch_size : (idx+1) * self.batch_size]\n",
        "\n",
        "        batch_images = []\n",
        "        for path in batch_paths:\n",
        "            img = cv2.imread(path)\n",
        "            img = cv2.cvtColor(img, cv2.COLOR_BGR2RGB)\n",
        "            img = cv2.resize(img, self.target_size)\n",
        "            img = img / 255.0\n",
        "            batch_images.append(img)\n",
        "\n",
        "        return np.array(batch_images), np.array(batch_labels)\n"
      ],
      "metadata": {
        "id": "teCIL5pAygyx"
      },
      "execution_count": 4,
      "outputs": []
    },
    {
      "cell_type": "markdown",
      "source": [
        "Como podemos observar, hemos creado una clase, típica, para manejar la inyección de datos. En un primer lugar hemos definido las propiedades de la clase en el método init. Seguidamente, en el método len estudiamos el número de lotes en los que los dividiremos. Por último, la función getitem da al conjunto de entreamiento un lote cada vez que lo requiera el modelo.\n",
        "\n",
        "A continuación viene el apartado del preprocesamiento. Sin embargo, en nuestra funcióna anterior ya hemos avanzado en este tema con dos pasos.  El primero de ellos ha sido el escalar las imagenes al realizar:\n",
        "```\n",
        "img = img / 255.0  \n",
        "```"
      ],
      "metadata": {
        "id": "Or5rWZWKyrZL"
      }
    },
    {
      "cell_type": "markdown",
      "source": [
        "Con esto pretendemos es acotar el rango ya que como va de [0,255] relentizaría bastante el preprocesamiento, por lo que ahora se movería en un rango de [0,1].\n",
        "\n",
        "Otra acción ha sido la redimensión de las imagenes ya que todos los modelos de DL necesitan de que todas las imagenes reciban el mismo tamaño. Para ello hemos hecho uso de la función:\n",
        "```\n",
        "img = cv2.resize(img, self.target_size)\n",
        "```"
      ],
      "metadata": {
        "id": "yEnXZzVy25hU"
      }
    },
    {
      "cell_type": "markdown",
      "source": [
        "Gracias a estas dos acciones conseguimos uniformidad en el tamaño de las imagenes y normalización.\n",
        "\n",
        "Ahora, podemos dividir el conjunto de datos que lo separaremos en: train (70%), val (20%) y test (10%)."
      ],
      "metadata": {
        "id": "1K21m1zh3lHY"
      }
    },
    {
      "cell_type": "code",
      "source": [
        "import glob\n",
        "from sklearn.model_selection import train_test_split\n",
        "\n",
        "clases = {\"rock\": 0, \"paper\": 1, \"scissors\": 2}\n",
        "\n",
        "image_paths = []\n",
        "labels = []\n",
        "\n",
        "for clase, idx in clases.items():\n",
        "    paths = glob.glob(os.path.join(dataset_path, clase, \"*.png\"))\n",
        "    image_paths.extend(paths)\n",
        "    labels.extend([idx] * len(paths))\n",
        "\n",
        "image_paths = np.array(image_paths)\n",
        "labels = np.array(labels)\n",
        "\n",
        "\n",
        "X_train, X_temp, y_train, y_temp = train_test_split(image_paths, labels, test_size=0.3, stratify=labels, random_state=42)\n",
        "X_val, X_test, y_val, y_test = train_test_split(X_temp, y_temp, test_size=0.33, stratify=y_temp, random_state=42)\n",
        "\n",
        "print(f\"Para el conjunto train (70%) contamos con: {len(X_train)} imagenes.\")\n",
        "print(f\"Para el conjunto val (20%) contamos con: {len(X_val)} imagenes.\")\n",
        "print(f\"Para el conjunto test (10%) contamos con: {len(X_test)} imagenes.\")"
      ],
      "metadata": {
        "id": "tKKbj0Bl0ZQ_",
        "colab": {
          "base_uri": "https://localhost:8080/"
        },
        "outputId": "33cc297f-66e8-47d2-f9f5-00a88a1a35c8"
      },
      "execution_count": 5,
      "outputs": [
        {
          "output_type": "stream",
          "name": "stdout",
          "text": [
            "Para el conjunto train (70%) contamos con: 1558 imagenes.\n",
            "Para el conjunto val (20%) contamos con: 448 imagenes.\n",
            "Para el conjunto test (10%) contamos con: 221 imagenes.\n"
          ]
        }
      ]
    },
    {
      "cell_type": "markdown",
      "source": [
        "Una vez dividos los conjuntos haremos uso de la función previamente creada, *class RPSSequence*, para dividir los datos en los lotes anteriomente explicado. En este caso utilizaremos un batch_size de 32 ya que nos aporta menos memoria RAM, nos ayuda a generalizar y es más ruidoso."
      ],
      "metadata": {
        "id": "fHnSlYua-QCX"
      }
    },
    {
      "cell_type": "code",
      "source": [
        "batch_size = 32\n",
        "\n",
        "train_gen = RPSSequence(X_train, y_train, batch_size=batch_size)\n",
        "val_gen = RPSSequence(X_val, y_val, batch_size=batch_size)\n",
        "test_gen = RPSSequence(X_test, y_test, batch_size=batch_size)"
      ],
      "metadata": {
        "id": "rUtBqaS6-9R6"
      },
      "execution_count": 6,
      "outputs": []
    },
    {
      "cell_type": "markdown",
      "source": [
        "### Entrenamiento de modelos"
      ],
      "metadata": {
        "id": "MbDlQEXoxCjD"
      }
    },
    {
      "cell_type": "markdown",
      "source": [
        "En esta nueva sección generaremos distintos modelos de DL, con el fin de aproximarnos a aquel que nos arroje los mejores resultados.\n",
        "\n",
        "Crearemos una red nueronal convolucional (CNN), que son las especializadas en el preprocesamiento de imagenes, a partir de la detección de bordes, texturas..."
      ],
      "metadata": {
        "id": "B-ef2tC78FWe"
      }
    },
    {
      "cell_type": "code",
      "source": [
        "from tensorflow.keras.models import Sequential\n",
        "from tensorflow.keras.layers import Conv2D, MaxPooling2D, Flatten, Dense, Dropout\n",
        "\n",
        "model = Sequential([\n",
        "    Conv2D(32, (3,3), activation='relu', input_shape=(200,300,3)),\n",
        "    MaxPooling2D((2,2)),\n",
        "    Flatten(),\n",
        "    Dense(128, activation='relu'),\n",
        "    Dense(3, activation='softmax')\n",
        "])"
      ],
      "metadata": {
        "id": "697HI7pE95BX",
        "colab": {
          "base_uri": "https://localhost:8080/"
        },
        "outputId": "3751ca0f-ec50-4b61-f2ad-6cca68ee0cc3"
      },
      "execution_count": 7,
      "outputs": [
        {
          "output_type": "stream",
          "name": "stderr",
          "text": [
            "/usr/local/lib/python3.12/dist-packages/keras/src/layers/convolutional/base_conv.py:113: UserWarning: Do not pass an `input_shape`/`input_dim` argument to a layer. When using Sequential models, prefer using an `Input(shape)` object as the first layer in the model instead.\n",
            "  super().__init__(activity_regularizer=activity_regularizer, **kwargs)\n"
          ]
        }
      ]
    },
    {
      "cell_type": "markdown",
      "source": [
        "Comenzaremos a desgranar este modelo. En primer lugar le atribuimos kernel de 32 don el fin de detectar patrones. A mayor valor, más aprendizaje pero mayor riesgo de overfitting. Por otro lado, tenemos un tamaño de filto de 3 de alto y ancho, esto es el area de la imagen que observará. Seguidamente hemos propuesto como función de activación la relu y una dimensión de entrada de 200x300px y 3 canales rgb.\n",
        "\n",
        "A continuación en MaxPooling2D reducimos las caracteristicas de la imagen a la mitad, por el (2,2) para su capturación.\n",
        "\n",
        "Por último, declaramos que la red debe tener 128 neuronas y tendrá una salida de 3 grupos, por scissors, paper y rock.\n",
        "\n",
        "Una vez generada esta primera red neuronal, marcamos la función perdida, el optimizador y la métrica."
      ],
      "metadata": {
        "id": "ttD8KFKZG9UT"
      }
    },
    {
      "cell_type": "code",
      "source": [
        "model.compile(optimizer='adam',\n",
        "              loss='sparse_categorical_crossentropy',\n",
        "              metrics=['accuracy'])"
      ],
      "metadata": {
        "id": "Ydi-h6Q5Js_m"
      },
      "execution_count": 8,
      "outputs": []
    },
    {
      "cell_type": "code",
      "source": [
        "history = model.fit(\n",
        "    train_gen,\n",
        "    validation_data=val_gen,\n",
        "    epochs=5,\n",
        "    batch_size=32\n",
        ")"
      ],
      "metadata": {
        "colab": {
          "base_uri": "https://localhost:8080/"
        },
        "id": "BMx1v5lEKYhm",
        "outputId": "fb6bdaf8-c540-44a4-a31c-6f889e11a9b4"
      },
      "execution_count": 9,
      "outputs": [
        {
          "output_type": "stream",
          "name": "stderr",
          "text": [
            "/usr/local/lib/python3.12/dist-packages/keras/src/trainers/data_adapters/py_dataset_adapter.py:121: UserWarning: Your `PyDataset` class should call `super().__init__(**kwargs)` in its constructor. `**kwargs` can include `workers`, `use_multiprocessing`, `max_queue_size`. Do not pass these arguments to `fit()`, as they will be ignored.\n",
            "  self._warn_if_super_not_called()\n"
          ]
        },
        {
          "output_type": "stream",
          "name": "stdout",
          "text": [
            "El número de lotes es de:  49\n",
            "El número de lotes es de:  49\n",
            "El número de lotes es de:  49\n",
            "Epoch 1/5\n",
            "El número de lotes es de:  49\n",
            "El número de lotes es de:  49\n",
            "\u001b[1m49/49\u001b[0m \u001b[32m━━━━━━━━━━━━━━━━━━━━\u001b[0m\u001b[37m\u001b[0m \u001b[1m0s\u001b[0m 6s/step - accuracy: 0.4165 - loss: 17.6041El número de lotes es de:  14\n",
            "El número de lotes es de:  14\n",
            "El número de lotes es de:  14\n",
            "El número de lotes es de:  14\n",
            "El número de lotes es de:  14\n",
            "\u001b[1m49/49\u001b[0m \u001b[32m━━━━━━━━━━━━━━━━━━━━\u001b[0m\u001b[37m\u001b[0m \u001b[1m414s\u001b[0m 8s/step - accuracy: 0.4185 - loss: 17.4084 - val_accuracy: 0.7924 - val_loss: 0.5884\n",
            "Epoch 2/5\n",
            "El número de lotes es de:  49\n",
            "El número de lotes es de:  49\n",
            "\u001b[1m49/49\u001b[0m \u001b[32m━━━━━━━━━━━━━━━━━━━━\u001b[0m\u001b[37m\u001b[0m \u001b[1m0s\u001b[0m 279ms/step - accuracy: 0.8391 - loss: 0.4502El número de lotes es de:  14\n",
            "El número de lotes es de:  14\n",
            "El número de lotes es de:  14\n",
            "\u001b[1m49/49\u001b[0m \u001b[32m━━━━━━━━━━━━━━━━━━━━\u001b[0m\u001b[37m\u001b[0m \u001b[1m17s\u001b[0m 356ms/step - accuracy: 0.8395 - loss: 0.4495 - val_accuracy: 0.8772 - val_loss: 0.4222\n",
            "Epoch 3/5\n",
            "El número de lotes es de:  49\n",
            "El número de lotes es de:  49\n",
            "\u001b[1m49/49\u001b[0m \u001b[32m━━━━━━━━━━━━━━━━━━━━\u001b[0m\u001b[37m\u001b[0m \u001b[1m0s\u001b[0m 279ms/step - accuracy: 0.8974 - loss: 0.3038El número de lotes es de:  14\n",
            "El número de lotes es de:  14\n",
            "El número de lotes es de:  14\n",
            "\u001b[1m49/49\u001b[0m \u001b[32m━━━━━━━━━━━━━━━━━━━━\u001b[0m\u001b[37m\u001b[0m \u001b[1m19s\u001b[0m 386ms/step - accuracy: 0.8978 - loss: 0.3033 - val_accuracy: 0.8750 - val_loss: 0.4024\n",
            "Epoch 4/5\n",
            "El número de lotes es de:  49\n",
            "El número de lotes es de:  49\n",
            "\u001b[1m49/49\u001b[0m \u001b[32m━━━━━━━━━━━━━━━━━━━━\u001b[0m\u001b[37m\u001b[0m \u001b[1m0s\u001b[0m 281ms/step - accuracy: 0.9281 - loss: 0.2141El número de lotes es de:  14\n",
            "El número de lotes es de:  14\n",
            "El número de lotes es de:  14\n",
            "\u001b[1m49/49\u001b[0m \u001b[32m━━━━━━━━━━━━━━━━━━━━\u001b[0m\u001b[37m\u001b[0m \u001b[1m19s\u001b[0m 358ms/step - accuracy: 0.9281 - loss: 0.2142 - val_accuracy: 0.9018 - val_loss: 0.3429\n",
            "Epoch 5/5\n",
            "El número de lotes es de:  49\n",
            "El número de lotes es de:  49\n",
            "\u001b[1m49/49\u001b[0m \u001b[32m━━━━━━━━━━━━━━━━━━━━\u001b[0m\u001b[37m\u001b[0m \u001b[1m0s\u001b[0m 279ms/step - accuracy: 0.9480 - loss: 0.1698El número de lotes es de:  14\n",
            "El número de lotes es de:  14\n",
            "El número de lotes es de:  14\n",
            "\u001b[1m49/49\u001b[0m \u001b[32m━━━━━━━━━━━━━━━━━━━━\u001b[0m\u001b[37m\u001b[0m \u001b[1m17s\u001b[0m 357ms/step - accuracy: 0.9480 - loss: 0.1699 - val_accuracy: 0.8906 - val_loss: 0.3351\n"
          ]
        }
      ]
    },
    {
      "cell_type": "markdown",
      "source": [
        "Para observar los resultados más correctamente los visualizaremos en la siguiente tabla, y a continuación discutiremos los resultados.\n",
        "\n",
        "| Época | Accuracy (train) | Loss (train) | Accuracy (val) | Loss (val) |\n",
        "| ----- | ---------------- | ------------ | -------------- | ---------- |\n",
        "| 1     | 41.65 %          | 17.6041      | 79.24 %        | 0.5884     |\n",
        "| 2     | 83.95 %          | 0.4495       | 87.72 %        | 0.4222     |\n",
        "| 3     | 89.78 %          | 0.3033       | 87.50 %        | 0.4024     |\n",
        "| 4     | 92.81 %          | 0.2142       | 90.18 %        | 0.3429     |\n",
        "| 5     | 94.80 %          | 0.1699       | 89.06 %        | 0.3351     |\n",
        "\n",
        "En la primera época observamos un mal accuracy y una función perdida alta. Esto es esperable al estar iniciandose.\n",
        "\n",
        "De la segunda a la última época observamos como el accuracy mejora progresivamete, al igual que la función de perdida se aminora. Sin embargo, el accierto en val en la última época disminuye y la función perdida supera a la de la epoca 3. Es por ello que podemos entender que el modelo tiende a sobreajuste, por lo que el modelo empieza a memorizar demasiado el train."
      ],
      "metadata": {
        "id": "o9mq3RNR8Djf"
      }
    },
    {
      "cell_type": "markdown",
      "source": [
        "A continuación realizaremos un ajuste de hiperparametros. Para ello utilizaremos la herramienta **Keras Tuner** la cual sirve para probar combinaciones automáticamente."
      ],
      "metadata": {
        "id": "zFQouoHtPTTl"
      }
    },
    {
      "cell_type": "code",
      "source": [
        "!pip install keras-tuner --quiet"
      ],
      "metadata": {
        "id": "p9U1PHtiiJ5r",
        "colab": {
          "base_uri": "https://localhost:8080/"
        },
        "outputId": "811c1fb9-464e-4957-bc69-f620e6bccb07"
      },
      "execution_count": 10,
      "outputs": [
        {
          "output_type": "stream",
          "name": "stdout",
          "text": [
            "\u001b[?25l   \u001b[90m━━━━━━━━━━━━━━━━━━━━━━━━━━━━━━━━━━━━━━━━\u001b[0m \u001b[32m0.0/129.1 kB\u001b[0m \u001b[31m?\u001b[0m eta \u001b[36m-:--:--\u001b[0m\r\u001b[2K   \u001b[90m━━━━━━━━━━━━━━━━━━━━━━━━━━━━━━━━━━━━━━━━\u001b[0m \u001b[32m129.1/129.1 kB\u001b[0m \u001b[31m4.2 MB/s\u001b[0m eta \u001b[36m0:00:00\u001b[0m\n",
            "\u001b[?25h"
          ]
        }
      ]
    },
    {
      "cell_type": "code",
      "source": [
        "import keras_tuner as kt\n",
        "from tensorflow.keras.layers import Conv2D, MaxPooling2D, Flatten, Dense, Dropout\n",
        "\n",
        "def build_model(hp):\n",
        "    model = Sequential()\n",
        "\n",
        "    model.add(Conv2D(\n",
        "        filters=hp.Choice(\"conv_filters\", values=[32, 64, 128]),\n",
        "        kernel_size=hp.Choice(\"kernel_size\", values=[3,5]),\n",
        "        activation=hp.Choice(\"conv_activation\", [\"relu\", \"tanh\", \"sigmoid\"]),\n",
        "        input_shape=(200,300,3)\n",
        "    ))\n",
        "    model.add(MaxPooling2D((2,2)))\n",
        "\n",
        "    if hp.Boolean(\"use_dropout\"):\n",
        "        model.add(Dropout(rate=0.3))\n",
        "\n",
        "    model.add(Flatten())\n",
        "\n",
        "    model.add(Dense(\n",
        "        units=hp.Choice(\"dense_units\", values=[64, 128, 256]),\n",
        "        activation='relu'\n",
        "    ))\n",
        "\n",
        "    model.add(Dense(3, activation='softmax'))\n",
        "\n",
        "    model.compile(\n",
        "        optimizer=hp.Choice(\"optimizer\", values=[\"adam\", \"sgd\", \"rmsprop\"]),\n",
        "        loss='sparse_categorical_crossentropy',\n",
        "        metrics=['accuracy']\n",
        "    )\n",
        "\n",
        "    return model\n",
        "\n",
        "tuner = kt.RandomSearch(\n",
        "    build_model,\n",
        "    objective=\"val_accuracy\",\n",
        "    max_trials=5,\n",
        "    directory=\"tuner_results\",\n",
        "    project_name=\"rps\"\n",
        ")\n",
        "\n",
        "tuner.search(train_gen, validation_data=val_gen, epochs=5)\n",
        "\n",
        "best_model = tuner.get_best_models(num_models=1)[0]"
      ],
      "metadata": {
        "id": "A_hrpay2PoDN",
        "colab": {
          "base_uri": "https://localhost:8080/"
        },
        "outputId": "5f87dd46-6851-41a3-a4b8-f8d9212e11f6"
      },
      "execution_count": 11,
      "outputs": [
        {
          "output_type": "stream",
          "name": "stdout",
          "text": [
            "Trial 5 Complete [00h 02m 23s]\n",
            "val_accuracy: 0.640625\n",
            "\n",
            "Best val_accuracy So Far: 0.9084821343421936\n",
            "Total elapsed time: 00h 11m 55s\n"
          ]
        }
      ]
    },
    {
      "cell_type": "markdown",
      "source": [
        "Como podemos observar, el accurcy que capta es del 87%, por lo que es bastante bueno. Ahora veremos cuales son de la función perdida de train, así como en val."
      ],
      "metadata": {
        "id": "R6m-nHydZuN6"
      }
    },
    {
      "cell_type": "code",
      "source": [
        "best_model = tuner.get_best_models(num_models=1)[0]\n",
        "\n",
        "history = best_model.fit(\n",
        "    train_gen,\n",
        "    validation_data=val_gen,\n",
        "    epochs=5\n",
        ")\n",
        "\n",
        "train_loss, train_acc = best_model.evaluate(train_gen, verbose=0)\n",
        "val_loss, val_acc = best_model.evaluate(val_gen, verbose=0)"
      ],
      "metadata": {
        "id": "WNWFR0b7Z_F6",
        "colab": {
          "base_uri": "https://localhost:8080/"
        },
        "outputId": "ad3d68ee-a979-4345-e9e9-3613d952b98c"
      },
      "execution_count": 12,
      "outputs": [
        {
          "output_type": "stream",
          "name": "stdout",
          "text": [
            "El número de lotes es de:  49\n",
            "El número de lotes es de:  49\n",
            "El número de lotes es de:  49\n",
            "Epoch 1/5\n",
            "El número de lotes es de:  49\n",
            "El número de lotes es de:  49\n",
            "\u001b[1m49/49\u001b[0m \u001b[32m━━━━━━━━━━━━━━━━━━━━\u001b[0m\u001b[37m\u001b[0m \u001b[1m0s\u001b[0m 402ms/step - accuracy: 0.9426 - loss: 0.2012El número de lotes es de:  14\n",
            "El número de lotes es de:  14\n",
            "El número de lotes es de:  14\n",
            "El número de lotes es de:  14\n",
            "El número de lotes es de:  14\n",
            "\u001b[1m49/49\u001b[0m \u001b[32m━━━━━━━━━━━━━━━━━━━━\u001b[0m\u001b[37m\u001b[0m \u001b[1m28s\u001b[0m 501ms/step - accuracy: 0.9425 - loss: 0.2011 - val_accuracy: 0.9129 - val_loss: 0.2644\n",
            "Epoch 2/5\n",
            "El número de lotes es de:  49\n",
            "El número de lotes es de:  49\n",
            "\u001b[1m49/49\u001b[0m \u001b[32m━━━━━━━━━━━━━━━━━━━━\u001b[0m\u001b[37m\u001b[0m \u001b[1m0s\u001b[0m 352ms/step - accuracy: 0.9604 - loss: 0.1458El número de lotes es de:  14\n",
            "El número de lotes es de:  14\n",
            "El número de lotes es de:  14\n",
            "\u001b[1m49/49\u001b[0m \u001b[32m━━━━━━━━━━━━━━━━━━━━\u001b[0m\u001b[37m\u001b[0m \u001b[1m21s\u001b[0m 437ms/step - accuracy: 0.9603 - loss: 0.1459 - val_accuracy: 0.8951 - val_loss: 0.2976\n",
            "Epoch 3/5\n",
            "El número de lotes es de:  49\n",
            "El número de lotes es de:  49\n",
            "\u001b[1m49/49\u001b[0m \u001b[32m━━━━━━━━━━━━━━━━━━━━\u001b[0m\u001b[37m\u001b[0m \u001b[1m0s\u001b[0m 264ms/step - accuracy: 0.9532 - loss: 0.1401El número de lotes es de:  14\n",
            "El número de lotes es de:  14\n",
            "El número de lotes es de:  14\n",
            "\u001b[1m49/49\u001b[0m \u001b[32m━━━━━━━━━━━━━━━━━━━━\u001b[0m\u001b[37m\u001b[0m \u001b[1m37s\u001b[0m 345ms/step - accuracy: 0.9534 - loss: 0.1399 - val_accuracy: 0.9420 - val_loss: 0.2076\n",
            "Epoch 4/5\n",
            "El número de lotes es de:  49\n",
            "El número de lotes es de:  49\n",
            "\u001b[1m49/49\u001b[0m \u001b[32m━━━━━━━━━━━━━━━━━━━━\u001b[0m\u001b[37m\u001b[0m \u001b[1m0s\u001b[0m 289ms/step - accuracy: 0.9723 - loss: 0.0967El número de lotes es de:  14\n",
            "El número de lotes es de:  14\n",
            "El número de lotes es de:  14\n",
            "\u001b[1m49/49\u001b[0m \u001b[32m━━━━━━━━━━━━━━━━━━━━\u001b[0m\u001b[37m\u001b[0m \u001b[1m22s\u001b[0m 369ms/step - accuracy: 0.9722 - loss: 0.0969 - val_accuracy: 0.9174 - val_loss: 0.2808\n",
            "Epoch 5/5\n",
            "El número de lotes es de:  49\n",
            "El número de lotes es de:  49\n",
            "\u001b[1m49/49\u001b[0m \u001b[32m━━━━━━━━━━━━━━━━━━━━\u001b[0m\u001b[37m\u001b[0m \u001b[1m0s\u001b[0m 271ms/step - accuracy: 0.9688 - loss: 0.1010El número de lotes es de:  14\n",
            "El número de lotes es de:  14\n",
            "El número de lotes es de:  14\n",
            "\u001b[1m49/49\u001b[0m \u001b[32m━━━━━━━━━━━━━━━━━━━━\u001b[0m\u001b[37m\u001b[0m \u001b[1m17s\u001b[0m 350ms/step - accuracy: 0.9688 - loss: 0.1008 - val_accuracy: 0.9375 - val_loss: 0.2078\n",
            "El número de lotes es de:  49\n",
            "El número de lotes es de:  49\n",
            "El número de lotes es de:  49\n",
            "El número de lotes es de:  49\n",
            "El número de lotes es de:  49\n",
            "El número de lotes es de:  14\n",
            "El número de lotes es de:  14\n",
            "El número de lotes es de:  14\n",
            "El número de lotes es de:  14\n",
            "El número de lotes es de:  14\n"
          ]
        }
      ]
    },
    {
      "cell_type": "markdown",
      "source": [
        "El resultado, ya con los hiperparametros ajustados es:\n",
        "\n",
        "| Época | Accuracy (train) | Loss (train) | Accuracy (val) | Loss (val) |\n",
        "| ----- | ---------------- | ------------ | -------------- | ---------- |\n",
        "| 1     | 94.25 %          | 0.2011       | 91.29 %        | 0.2644     |\n",
        "| 2     | 96.03 %          | 0.1459       | 89.51 %        | 0.2976     |\n",
        "| 3     | 95.34 %          | 0.1399       | 94.20 %        | 0.2076     |\n",
        "| 4     | 97.22 %          | 0.0969       | 91.74 %        | 0.2808     |\n",
        "| 5     | 96.88 %          | 0.1008       | 93.75 %        | 0.2078     |\n",
        "\n",
        "\n",
        "Aqui podemos observar que hasta el tercer epoch sube linealmente, para en el cuarto descender levemente y en el quinto y último epochs tener el máximo de trains accuracy. A su vez la función perdidia en train es al más baja. De la misma forma, respecto a val, obtenemos uno de los mejores resultados y aunque no sea la mejor funcion perdida, es igualmente uno de los mejores resultados.\n",
        "\n",
        "A continuación observaremos cuales son los mejores hiperparametros que nos marca Keras Turner."
      ],
      "metadata": {
        "id": "QIgkMFU8tN5q"
      }
    },
    {
      "cell_type": "code",
      "source": [
        "best_hps = tuner.get_best_hyperparameters(num_trials=1)[0]\n",
        "\n",
        "for param, value in best_hps.values.items():\n",
        "    print(f\"{param}: {value}\")"
      ],
      "metadata": {
        "id": "g-sAMHCzYbJQ",
        "colab": {
          "base_uri": "https://localhost:8080/"
        },
        "outputId": "9954f273-0168-4506-c489-25bdc8212023"
      },
      "execution_count": 13,
      "outputs": [
        {
          "output_type": "stream",
          "name": "stdout",
          "text": [
            "conv_filters: 64\n",
            "kernel_size: 3\n",
            "conv_activation: tanh\n",
            "use_dropout: True\n",
            "dense_units: 64\n",
            "optimizer: sgd\n"
          ]
        }
      ]
    },
    {
      "cell_type": "markdown",
      "source": [
        "Los parámetros que hemos ajustado que componen esta última red neuronal son. En la parte convolucional, cambiamos a 64 filtros y una kernel de 3x3. Sin embargo, la función de activación es la tangente. En la regularización este modelo ha optado por usar el dropout. Por último, mencionaremos el optimizador que ha pasado de ser adams a sgd, puesto que tiende a ir mejor en problemas de imágenes y secuencias.\n",
        "\n",
        "A continuación, realizaremos técnicas de regularización Lasso, que penaliza los coeficientes absolutos, y Ridge, que se encarga de el cuadrado de los coeficientes. Los evaluaremos independientes con el fin de obtener el mejor resultado."
      ],
      "metadata": {
        "id": "bP_p91TT8C7J"
      }
    },
    {
      "cell_type": "code",
      "source": [
        "from tensorflow.keras import models, layers, optimizers, regularizers\n",
        "\n",
        "def build_model(reg_type=None, l1_val=1e-5, l2_val=1e-4):\n",
        "    if reg_type == \"l1\":\n",
        "        reg = regularizers.l1(l1_val)\n",
        "    elif reg_type == \"l2\":\n",
        "        reg = regularizers.l2(l2_val)\n",
        "    elif reg_type == \"l1_l2\":\n",
        "        reg = regularizers.l1_l2(l1=l1_val, l2=l2_val)\n",
        "    else:\n",
        "        reg = None\n",
        "\n",
        "    model = models.Sequential([\n",
        "        layers.Conv2D(32, (3,3), activation='tanh', input_shape=(200,300,3),\n",
        "                      kernel_regularizer=reg),\n",
        "        layers.MaxPooling2D((2,2)),\n",
        "        layers.Flatten(),\n",
        "        layers.Dense(128, activation='tanh', kernel_regularizer=reg),\n",
        "        layers.Dense(3, activation='softmax')\n",
        "    ])\n",
        "\n",
        "    model.compile(\n",
        "    optimizer=optimizers.RMSprop(),\n",
        "    loss='sparse_categorical_crossentropy',\n",
        "    metrics=['accuracy']\n",
        "    )\n",
        "\n",
        "    return model\n",
        "\n",
        "model_original = build_model(reg_type=None)\n",
        "model_l1       = build_model(reg_type=\"l1\")\n",
        "model_l2       = build_model(reg_type=\"l2\")\n",
        "model_l1_l2    = build_model(reg_type=\"l1_l2\")\n",
        "\n",
        "history_original = model_original.fit(\n",
        "    train_gen,\n",
        "    validation_data=val_gen,\n",
        "    epochs=20\n",
        ")\n",
        "\n",
        "history_l1 = model_l1.fit(\n",
        "    train_gen,\n",
        "    validation_data=val_gen,\n",
        "    epochs=20\n",
        ")\n",
        "\n",
        "history_l2 = model_l2.fit(\n",
        "    train_gen,\n",
        "    validation_data=val_gen,\n",
        "    epochs=20\n",
        ")\n",
        "\n",
        "history_l1_l2 = model_l1_l2.fit(\n",
        "    train_gen,\n",
        "    validation_data=val_gen,\n",
        "    epochs=20\n",
        ")\n",
        "\n",
        "results = {\n",
        "    \"Original\": model_original.evaluate(test_gen, verbose=0),\n",
        "    \"L1\": model_l1.evaluate(test_gen, verbose=0),\n",
        "    \"L2\": model_l2.evaluate(test_gen, verbose=0),\n",
        "    \"L1+L2\": model_l1_l2.evaluate(test_gen, verbose=0)\n",
        "}\n",
        "\n",
        "for name, (loss, acc) in results.items():\n",
        "    print(f\"{name} -> Loss: {loss:.4f}, Accuracy: {acc:.4f}\")"
      ],
      "metadata": {
        "id": "rROiq4KrOlnO",
        "colab": {
          "base_uri": "https://localhost:8080/"
        },
        "outputId": "78f22263-25c9-4dc8-e0b2-4fcf66cb356d"
      },
      "execution_count": 14,
      "outputs": [
        {
          "output_type": "stream",
          "name": "stdout",
          "text": [
            "El número de lotes es de:  49\n",
            "El número de lotes es de:  49\n",
            "El número de lotes es de:  49\n",
            "Epoch 1/20\n",
            "El número de lotes es de:  49\n",
            "El número de lotes es de:  49\n",
            "\u001b[1m49/49\u001b[0m \u001b[32m━━━━━━━━━━━━━━━━━━━━\u001b[0m\u001b[37m\u001b[0m \u001b[1m0s\u001b[0m 269ms/step - accuracy: 0.3230 - loss: 4.1083El número de lotes es de:  14\n",
            "El número de lotes es de:  14\n",
            "El número de lotes es de:  14\n",
            "El número de lotes es de:  14\n",
            "El número de lotes es de:  14\n",
            "\u001b[1m49/49\u001b[0m \u001b[32m━━━━━━━━━━━━━━━━━━━━\u001b[0m\u001b[37m\u001b[0m \u001b[1m20s\u001b[0m 362ms/step - accuracy: 0.3231 - loss: 4.0966 - val_accuracy: 0.3549 - val_loss: 1.6856\n",
            "Epoch 2/20\n",
            "El número de lotes es de:  49\n",
            "El número de lotes es de:  49\n",
            "\u001b[1m49/49\u001b[0m \u001b[32m━━━━━━━━━━━━━━━━━━━━\u001b[0m\u001b[37m\u001b[0m \u001b[1m0s\u001b[0m 281ms/step - accuracy: 0.3525 - loss: 1.3195El número de lotes es de:  14\n",
            "El número de lotes es de:  14\n",
            "El número de lotes es de:  14\n",
            "\u001b[1m49/49\u001b[0m \u001b[32m━━━━━━━━━━━━━━━━━━━━\u001b[0m\u001b[37m\u001b[0m \u001b[1m17s\u001b[0m 354ms/step - accuracy: 0.3524 - loss: 1.3168 - val_accuracy: 0.3259 - val_loss: 1.0992\n",
            "Epoch 3/20\n",
            "El número de lotes es de:  49\n",
            "El número de lotes es de:  49\n",
            "\u001b[1m49/49\u001b[0m \u001b[32m━━━━━━━━━━━━━━━━━━━━\u001b[0m\u001b[37m\u001b[0m \u001b[1m0s\u001b[0m 265ms/step - accuracy: 0.3402 - loss: 1.1089El número de lotes es de:  14\n",
            "El número de lotes es de:  14\n",
            "El número de lotes es de:  14\n",
            "\u001b[1m49/49\u001b[0m \u001b[32m━━━━━━━━━━━━━━━━━━━━\u001b[0m\u001b[37m\u001b[0m \u001b[1m18s\u001b[0m 372ms/step - accuracy: 0.3401 - loss: 1.1089 - val_accuracy: 0.3259 - val_loss: 1.1005\n",
            "Epoch 4/20\n",
            "El número de lotes es de:  49\n",
            "El número de lotes es de:  49\n",
            "\u001b[1m49/49\u001b[0m \u001b[32m━━━━━━━━━━━━━━━━━━━━\u001b[0m\u001b[37m\u001b[0m \u001b[1m0s\u001b[0m 273ms/step - accuracy: 0.3463 - loss: 1.1082El número de lotes es de:  14\n",
            "El número de lotes es de:  14\n",
            "El número de lotes es de:  14\n",
            "\u001b[1m49/49\u001b[0m \u001b[32m━━━━━━━━━━━━━━━━━━━━\u001b[0m\u001b[37m\u001b[0m \u001b[1m17s\u001b[0m 346ms/step - accuracy: 0.3462 - loss: 1.1082 - val_accuracy: 0.3549 - val_loss: 1.1187\n",
            "Epoch 5/20\n",
            "El número de lotes es de:  49\n",
            "El número de lotes es de:  49\n",
            "\u001b[1m49/49\u001b[0m \u001b[32m━━━━━━━━━━━━━━━━━━━━\u001b[0m\u001b[37m\u001b[0m \u001b[1m0s\u001b[0m 265ms/step - accuracy: 0.3385 - loss: 1.1083El número de lotes es de:  14\n",
            "El número de lotes es de:  14\n",
            "El número de lotes es de:  14\n",
            "\u001b[1m49/49\u001b[0m \u001b[32m━━━━━━━━━━━━━━━━━━━━\u001b[0m\u001b[37m\u001b[0m \u001b[1m17s\u001b[0m 342ms/step - accuracy: 0.3384 - loss: 1.1083 - val_accuracy: 0.3549 - val_loss: 1.0998\n",
            "Epoch 6/20\n",
            "El número de lotes es de:  49\n",
            "El número de lotes es de:  49\n",
            "\u001b[1m49/49\u001b[0m \u001b[32m━━━━━━━━━━━━━━━━━━━━\u001b[0m\u001b[37m\u001b[0m \u001b[1m0s\u001b[0m 279ms/step - accuracy: 0.3501 - loss: 1.1097El número de lotes es de:  14\n",
            "El número de lotes es de:  14\n",
            "El número de lotes es de:  14\n",
            "\u001b[1m49/49\u001b[0m \u001b[32m━━━━━━━━━━━━━━━━━━━━\u001b[0m\u001b[37m\u001b[0m \u001b[1m19s\u001b[0m 386ms/step - accuracy: 0.3502 - loss: 1.1096 - val_accuracy: 0.3549 - val_loss: 1.1036\n",
            "Epoch 7/20\n",
            "El número de lotes es de:  49\n",
            "El número de lotes es de:  49\n",
            "\u001b[1m49/49\u001b[0m \u001b[32m━━━━━━━━━━━━━━━━━━━━\u001b[0m\u001b[37m\u001b[0m \u001b[1m0s\u001b[0m 275ms/step - accuracy: 0.3181 - loss: 1.1116El número de lotes es de:  14\n",
            "El número de lotes es de:  14\n",
            "El número de lotes es de:  14\n",
            "\u001b[1m49/49\u001b[0m \u001b[32m━━━━━━━━━━━━━━━━━━━━\u001b[0m\u001b[37m\u001b[0m \u001b[1m17s\u001b[0m 353ms/step - accuracy: 0.3182 - loss: 1.1115 - val_accuracy: 0.3192 - val_loss: 1.1475\n",
            "Epoch 8/20\n",
            "El número de lotes es de:  49\n",
            "El número de lotes es de:  49\n",
            "\u001b[1m49/49\u001b[0m \u001b[32m━━━━━━━━━━━━━━━━━━━━\u001b[0m\u001b[37m\u001b[0m \u001b[1m0s\u001b[0m 270ms/step - accuracy: 0.3424 - loss: 1.1104El número de lotes es de:  14\n",
            "El número de lotes es de:  14\n",
            "El número de lotes es de:  14\n",
            "\u001b[1m49/49\u001b[0m \u001b[32m━━━━━━━━━━━━━━━━━━━━\u001b[0m\u001b[37m\u001b[0m \u001b[1m17s\u001b[0m 347ms/step - accuracy: 0.3424 - loss: 1.1103 - val_accuracy: 0.3549 - val_loss: 1.1110\n",
            "Epoch 9/20\n",
            "El número de lotes es de:  49\n",
            "El número de lotes es de:  49\n",
            "\u001b[1m49/49\u001b[0m \u001b[32m━━━━━━━━━━━━━━━━━━━━\u001b[0m\u001b[37m\u001b[0m \u001b[1m0s\u001b[0m 260ms/step - accuracy: 0.3314 - loss: 1.1034El número de lotes es de:  14\n",
            "El número de lotes es de:  14\n",
            "El número de lotes es de:  14\n",
            "\u001b[1m49/49\u001b[0m \u001b[32m━━━━━━━━━━━━━━━━━━━━\u001b[0m\u001b[37m\u001b[0m \u001b[1m17s\u001b[0m 343ms/step - accuracy: 0.3316 - loss: 1.1034 - val_accuracy: 0.3192 - val_loss: 1.1072\n",
            "Epoch 10/20\n",
            "El número de lotes es de:  49\n",
            "El número de lotes es de:  49\n",
            "\u001b[1m49/49\u001b[0m \u001b[32m━━━━━━━━━━━━━━━━━━━━\u001b[0m\u001b[37m\u001b[0m \u001b[1m0s\u001b[0m 278ms/step - accuracy: 0.3124 - loss: 1.1146El número de lotes es de:  14\n",
            "El número de lotes es de:  14\n",
            "El número de lotes es de:  14\n",
            "\u001b[1m49/49\u001b[0m \u001b[32m━━━━━━━━━━━━━━━━━━━━\u001b[0m\u001b[37m\u001b[0m \u001b[1m21s\u001b[0m 351ms/step - accuracy: 0.3126 - loss: 1.1145 - val_accuracy: 0.3259 - val_loss: 1.1028\n",
            "Epoch 11/20\n",
            "El número de lotes es de:  49\n",
            "El número de lotes es de:  49\n",
            "\u001b[1m49/49\u001b[0m \u001b[32m━━━━━━━━━━━━━━━━━━━━\u001b[0m\u001b[37m\u001b[0m \u001b[1m0s\u001b[0m 270ms/step - accuracy: 0.3256 - loss: 1.1087El número de lotes es de:  14\n",
            "El número de lotes es de:  14\n",
            "El número de lotes es de:  14\n",
            "\u001b[1m49/49\u001b[0m \u001b[32m━━━━━━━━━━━━━━━━━━━━\u001b[0m\u001b[37m\u001b[0m \u001b[1m18s\u001b[0m 377ms/step - accuracy: 0.3256 - loss: 1.1088 - val_accuracy: 0.3549 - val_loss: 1.0991\n",
            "Epoch 12/20\n",
            "El número de lotes es de:  49\n",
            "El número de lotes es de:  49\n",
            "\u001b[1m49/49\u001b[0m \u001b[32m━━━━━━━━━━━━━━━━━━━━\u001b[0m\u001b[37m\u001b[0m \u001b[1m0s\u001b[0m 271ms/step - accuracy: 0.3499 - loss: 1.1076El número de lotes es de:  14\n",
            "El número de lotes es de:  14\n",
            "El número de lotes es de:  14\n",
            "\u001b[1m49/49\u001b[0m \u001b[32m━━━━━━━━━━━━━━━━━━━━\u001b[0m\u001b[37m\u001b[0m \u001b[1m17s\u001b[0m 347ms/step - accuracy: 0.3497 - loss: 1.1076 - val_accuracy: 0.3192 - val_loss: 1.1033\n",
            "Epoch 13/20\n",
            "El número de lotes es de:  49\n",
            "El número de lotes es de:  49\n",
            "\u001b[1m49/49\u001b[0m \u001b[32m━━━━━━━━━━━━━━━━━━━━\u001b[0m\u001b[37m\u001b[0m \u001b[1m0s\u001b[0m 266ms/step - accuracy: 0.3403 - loss: 1.1043El número de lotes es de:  14\n",
            "El número de lotes es de:  14\n",
            "El número de lotes es de:  14\n",
            "\u001b[1m49/49\u001b[0m \u001b[32m━━━━━━━━━━━━━━━━━━━━\u001b[0m\u001b[37m\u001b[0m \u001b[1m18s\u001b[0m 373ms/step - accuracy: 0.3402 - loss: 1.1044 - val_accuracy: 0.3549 - val_loss: 1.0981\n",
            "Epoch 14/20\n",
            "El número de lotes es de:  49\n",
            "El número de lotes es de:  49\n",
            "\u001b[1m49/49\u001b[0m \u001b[32m━━━━━━━━━━━━━━━━━━━━\u001b[0m\u001b[37m\u001b[0m \u001b[1m0s\u001b[0m 277ms/step - accuracy: 0.3678 - loss: 1.1037El número de lotes es de:  14\n",
            "El número de lotes es de:  14\n",
            "El número de lotes es de:  14\n",
            "\u001b[1m49/49\u001b[0m \u001b[32m━━━━━━━━━━━━━━━━━━━━\u001b[0m\u001b[37m\u001b[0m \u001b[1m17s\u001b[0m 357ms/step - accuracy: 0.3676 - loss: 1.1037 - val_accuracy: 0.3549 - val_loss: 1.0982\n",
            "Epoch 15/20\n",
            "El número de lotes es de:  49\n",
            "El número de lotes es de:  49\n",
            "\u001b[1m49/49\u001b[0m \u001b[32m━━━━━━━━━━━━━━━━━━━━\u001b[0m\u001b[37m\u001b[0m \u001b[1m0s\u001b[0m 263ms/step - accuracy: 0.3468 - loss: 1.1101El número de lotes es de:  14\n",
            "El número de lotes es de:  14\n",
            "El número de lotes es de:  14\n",
            "\u001b[1m49/49\u001b[0m \u001b[32m━━━━━━━━━━━━━━━━━━━━\u001b[0m\u001b[37m\u001b[0m \u001b[1m18s\u001b[0m 370ms/step - accuracy: 0.3468 - loss: 1.1101 - val_accuracy: 0.3549 - val_loss: 1.0997\n",
            "Epoch 16/20\n",
            "El número de lotes es de:  49\n",
            "El número de lotes es de:  49\n",
            "\u001b[1m49/49\u001b[0m \u001b[32m━━━━━━━━━━━━━━━━━━━━\u001b[0m\u001b[37m\u001b[0m \u001b[1m0s\u001b[0m 275ms/step - accuracy: 0.3164 - loss: 1.1095El número de lotes es de:  14\n",
            "El número de lotes es de:  14\n",
            "El número de lotes es de:  14\n",
            "\u001b[1m49/49\u001b[0m \u001b[32m━━━━━━━━━━━━━━━━━━━━\u001b[0m\u001b[37m\u001b[0m \u001b[1m17s\u001b[0m 347ms/step - accuracy: 0.3168 - loss: 1.1095 - val_accuracy: 0.3549 - val_loss: 1.1137\n",
            "Epoch 17/20\n",
            "El número de lotes es de:  49\n",
            "El número de lotes es de:  49\n",
            "\u001b[1m49/49\u001b[0m \u001b[32m━━━━━━━━━━━━━━━━━━━━\u001b[0m\u001b[37m\u001b[0m \u001b[1m0s\u001b[0m 258ms/step - accuracy: 0.3434 - loss: 1.1108El número de lotes es de:  14\n",
            "El número de lotes es de:  14\n",
            "El número de lotes es de:  14\n",
            "\u001b[1m49/49\u001b[0m \u001b[32m━━━━━━━━━━━━━━━━━━━━\u001b[0m\u001b[37m\u001b[0m \u001b[1m17s\u001b[0m 341ms/step - accuracy: 0.3436 - loss: 1.1107 - val_accuracy: 0.3259 - val_loss: 1.1024\n",
            "Epoch 18/20\n",
            "El número de lotes es de:  49\n",
            "El número de lotes es de:  49\n",
            "\u001b[1m49/49\u001b[0m \u001b[32m━━━━━━━━━━━━━━━━━━━━\u001b[0m\u001b[37m\u001b[0m \u001b[1m0s\u001b[0m 278ms/step - accuracy: 0.3235 - loss: 1.1093El número de lotes es de:  14\n",
            "El número de lotes es de:  14\n",
            "El número de lotes es de:  14\n",
            "\u001b[1m49/49\u001b[0m \u001b[32m━━━━━━━━━━━━━━━━━━━━\u001b[0m\u001b[37m\u001b[0m \u001b[1m21s\u001b[0m 351ms/step - accuracy: 0.3235 - loss: 1.1094 - val_accuracy: 0.3259 - val_loss: 1.1062\n",
            "Epoch 19/20\n",
            "El número de lotes es de:  49\n",
            "El número de lotes es de:  49\n",
            "\u001b[1m49/49\u001b[0m \u001b[32m━━━━━━━━━━━━━━━━━━━━\u001b[0m\u001b[37m\u001b[0m \u001b[1m0s\u001b[0m 270ms/step - accuracy: 0.3402 - loss: 1.1087El número de lotes es de:  14\n",
            "El número de lotes es de:  14\n",
            "El número de lotes es de:  14\n",
            "\u001b[1m49/49\u001b[0m \u001b[32m━━━━━━━━━━━━━━━━━━━━\u001b[0m\u001b[37m\u001b[0m \u001b[1m18s\u001b[0m 377ms/step - accuracy: 0.3401 - loss: 1.1087 - val_accuracy: 0.3259 - val_loss: 1.1012\n",
            "Epoch 20/20\n",
            "El número de lotes es de:  49\n",
            "El número de lotes es de:  49\n",
            "\u001b[1m49/49\u001b[0m \u001b[32m━━━━━━━━━━━━━━━━━━━━\u001b[0m\u001b[37m\u001b[0m \u001b[1m0s\u001b[0m 279ms/step - accuracy: 0.3155 - loss: 1.1115El número de lotes es de:  14\n",
            "El número de lotes es de:  14\n",
            "El número de lotes es de:  14\n",
            "\u001b[1m49/49\u001b[0m \u001b[32m━━━━━━━━━━━━━━━━━━━━\u001b[0m\u001b[37m\u001b[0m \u001b[1m17s\u001b[0m 352ms/step - accuracy: 0.3159 - loss: 1.1114 - val_accuracy: 0.3549 - val_loss: 1.1036\n",
            "El número de lotes es de:  49\n",
            "El número de lotes es de:  49\n",
            "El número de lotes es de:  49\n",
            "Epoch 1/20\n",
            "El número de lotes es de:  49\n",
            "El número de lotes es de:  49\n",
            "\u001b[1m49/49\u001b[0m \u001b[32m━━━━━━━━━━━━━━━━━━━━\u001b[0m\u001b[37m\u001b[0m \u001b[1m0s\u001b[0m 288ms/step - accuracy: 0.3222 - loss: 5.1950El número de lotes es de:  14\n",
            "El número de lotes es de:  14\n",
            "El número de lotes es de:  14\n",
            "El número de lotes es de:  14\n",
            "El número de lotes es de:  14\n",
            "\u001b[1m49/49\u001b[0m \u001b[32m━━━━━━━━━━━━━━━━━━━━\u001b[0m\u001b[37m\u001b[0m \u001b[1m22s\u001b[0m 408ms/step - accuracy: 0.3225 - loss: 5.1765 - val_accuracy: 0.3549 - val_loss: 2.2274\n",
            "Epoch 2/20\n",
            "El número de lotes es de:  49\n",
            "El número de lotes es de:  49\n",
            "\u001b[1m49/49\u001b[0m \u001b[32m━━━━━━━━━━━━━━━━━━━━\u001b[0m\u001b[37m\u001b[0m \u001b[1m0s\u001b[0m 272ms/step - accuracy: 0.3263 - loss: 1.9405El número de lotes es de:  14\n",
            "El número de lotes es de:  14\n",
            "El número de lotes es de:  14\n",
            "\u001b[1m49/49\u001b[0m \u001b[32m━━━━━━━━━━━━━━━━━━━━\u001b[0m\u001b[37m\u001b[0m \u001b[1m17s\u001b[0m 350ms/step - accuracy: 0.3263 - loss: 1.9378 - val_accuracy: 0.3259 - val_loss: 1.5457\n",
            "Epoch 3/20\n",
            "El número de lotes es de:  49\n",
            "El número de lotes es de:  49\n",
            "\u001b[1m49/49\u001b[0m \u001b[32m━━━━━━━━━━━━━━━━━━━━\u001b[0m\u001b[37m\u001b[0m \u001b[1m0s\u001b[0m 278ms/step - accuracy: 0.3404 - loss: 1.4746El número de lotes es de:  14\n",
            "El número de lotes es de:  14\n",
            "El número de lotes es de:  14\n",
            "\u001b[1m49/49\u001b[0m \u001b[32m━━━━━━━━━━━━━━━━━━━━\u001b[0m\u001b[37m\u001b[0m \u001b[1m17s\u001b[0m 350ms/step - accuracy: 0.3404 - loss: 1.4734 - val_accuracy: 0.3549 - val_loss: 1.3850\n",
            "Epoch 4/20\n",
            "El número de lotes es de:  49\n",
            "El número de lotes es de:  49\n",
            "\u001b[1m49/49\u001b[0m \u001b[32m━━━━━━━━━━━━━━━━━━━━\u001b[0m\u001b[37m\u001b[0m \u001b[1m0s\u001b[0m 279ms/step - accuracy: 0.3656 - loss: 1.2989El número de lotes es de:  14\n",
            "El número de lotes es de:  14\n",
            "El número de lotes es de:  14\n",
            "\u001b[1m49/49\u001b[0m \u001b[32m━━━━━━━━━━━━━━━━━━━━\u001b[0m\u001b[37m\u001b[0m \u001b[1m18s\u001b[0m 361ms/step - accuracy: 0.3653 - loss: 1.2997 - val_accuracy: 0.3259 - val_loss: 1.4601\n",
            "Epoch 5/20\n",
            "El número de lotes es de:  49\n",
            "El número de lotes es de:  49\n",
            "\u001b[1m49/49\u001b[0m \u001b[32m━━━━━━━━━━━━━━━━━━━━\u001b[0m\u001b[37m\u001b[0m \u001b[1m0s\u001b[0m 260ms/step - accuracy: 0.3234 - loss: 1.4771El número de lotes es de:  14\n",
            "El número de lotes es de:  14\n",
            "El número de lotes es de:  14\n",
            "\u001b[1m49/49\u001b[0m \u001b[32m━━━━━━━━━━━━━━━━━━━━\u001b[0m\u001b[37m\u001b[0m \u001b[1m17s\u001b[0m 336ms/step - accuracy: 0.3240 - loss: 1.4770 - val_accuracy: 0.4799 - val_loss: 1.4604\n",
            "Epoch 6/20\n",
            "El número de lotes es de:  49\n",
            "El número de lotes es de:  49\n",
            "\u001b[1m49/49\u001b[0m \u001b[32m━━━━━━━━━━━━━━━━━━━━\u001b[0m\u001b[37m\u001b[0m \u001b[1m0s\u001b[0m 260ms/step - accuracy: 0.4337 - loss: 1.3960El número de lotes es de:  14\n",
            "El número de lotes es de:  14\n",
            "El número de lotes es de:  14\n",
            "\u001b[1m49/49\u001b[0m \u001b[32m━━━━━━━━━━━━━━━━━━━━\u001b[0m\u001b[37m\u001b[0m \u001b[1m17s\u001b[0m 338ms/step - accuracy: 0.4344 - loss: 1.3952 - val_accuracy: 0.7076 - val_loss: 1.2767\n",
            "Epoch 7/20\n",
            "El número de lotes es de:  49\n",
            "El número de lotes es de:  49\n",
            "\u001b[1m49/49\u001b[0m \u001b[32m━━━━━━━━━━━━━━━━━━━━\u001b[0m\u001b[37m\u001b[0m \u001b[1m0s\u001b[0m 282ms/step - accuracy: 0.6194 - loss: 1.3135El número de lotes es de:  14\n",
            "El número de lotes es de:  14\n",
            "El número de lotes es de:  14\n",
            "\u001b[1m49/49\u001b[0m \u001b[32m━━━━━━━━━━━━━━━━━━━━\u001b[0m\u001b[37m\u001b[0m \u001b[1m17s\u001b[0m 355ms/step - accuracy: 0.6201 - loss: 1.3127 - val_accuracy: 0.6853 - val_loss: 1.2209\n",
            "Epoch 8/20\n",
            "El número de lotes es de:  49\n",
            "El número de lotes es de:  49\n",
            "\u001b[1m49/49\u001b[0m \u001b[32m━━━━━━━━━━━━━━━━━━━━\u001b[0m\u001b[37m\u001b[0m \u001b[1m0s\u001b[0m 278ms/step - accuracy: 0.7298 - loss: 1.1623El número de lotes es de:  14\n",
            "El número de lotes es de:  14\n",
            "El número de lotes es de:  14\n",
            "\u001b[1m49/49\u001b[0m \u001b[32m━━━━━━━━━━━━━━━━━━━━\u001b[0m\u001b[37m\u001b[0m \u001b[1m18s\u001b[0m 362ms/step - accuracy: 0.7302 - loss: 1.1619 - val_accuracy: 0.7969 - val_loss: 1.0565\n",
            "Epoch 9/20\n",
            "El número de lotes es de:  49\n",
            "El número de lotes es de:  49\n",
            "\u001b[1m49/49\u001b[0m \u001b[32m━━━━━━━━━━━━━━━━━━━━\u001b[0m\u001b[37m\u001b[0m \u001b[1m0s\u001b[0m 265ms/step - accuracy: 0.7566 - loss: 1.1292El número de lotes es de:  14\n",
            "El número de lotes es de:  14\n",
            "El número de lotes es de:  14\n",
            "\u001b[1m49/49\u001b[0m \u001b[32m━━━━━━━━━━━━━━━━━━━━\u001b[0m\u001b[37m\u001b[0m \u001b[1m16s\u001b[0m 336ms/step - accuracy: 0.7572 - loss: 1.1281 - val_accuracy: 0.8103 - val_loss: 1.0180\n",
            "Epoch 10/20\n",
            "El número de lotes es de:  49\n",
            "El número de lotes es de:  49\n",
            "\u001b[1m49/49\u001b[0m \u001b[32m━━━━━━━━━━━━━━━━━━━━\u001b[0m\u001b[37m\u001b[0m \u001b[1m0s\u001b[0m 259ms/step - accuracy: 0.8104 - loss: 1.0218El número de lotes es de:  14\n",
            "El número de lotes es de:  14\n",
            "El número de lotes es de:  14\n",
            "\u001b[1m49/49\u001b[0m \u001b[32m━━━━━━━━━━━━━━━━━━━━\u001b[0m\u001b[37m\u001b[0m \u001b[1m16s\u001b[0m 337ms/step - accuracy: 0.8106 - loss: 1.0219 - val_accuracy: 0.8237 - val_loss: 1.0409\n",
            "Epoch 11/20\n",
            "El número de lotes es de:  49\n",
            "El número de lotes es de:  49\n",
            "\u001b[1m49/49\u001b[0m \u001b[32m━━━━━━━━━━━━━━━━━━━━\u001b[0m\u001b[37m\u001b[0m \u001b[1m0s\u001b[0m 280ms/step - accuracy: 0.8621 - loss: 0.9149El número de lotes es de:  14\n",
            "El número de lotes es de:  14\n",
            "El número de lotes es de:  14\n",
            "\u001b[1m49/49\u001b[0m \u001b[32m━━━━━━━━━━━━━━━━━━━━\u001b[0m\u001b[37m\u001b[0m \u001b[1m19s\u001b[0m 387ms/step - accuracy: 0.8617 - loss: 0.9154 - val_accuracy: 0.8192 - val_loss: 1.0496\n",
            "Epoch 12/20\n",
            "El número de lotes es de:  49\n",
            "El número de lotes es de:  49\n",
            "\u001b[1m49/49\u001b[0m \u001b[32m━━━━━━━━━━━━━━━━━━━━\u001b[0m\u001b[37m\u001b[0m \u001b[1m0s\u001b[0m 269ms/step - accuracy: 0.8250 - loss: 0.9801El número de lotes es de:  14\n",
            "El número de lotes es de:  14\n",
            "El número de lotes es de:  14\n",
            "\u001b[1m49/49\u001b[0m \u001b[32m━━━━━━━━━━━━━━━━━━━━\u001b[0m\u001b[37m\u001b[0m \u001b[1m17s\u001b[0m 346ms/step - accuracy: 0.8252 - loss: 0.9796 - val_accuracy: 0.8371 - val_loss: 0.9899\n",
            "Epoch 13/20\n",
            "El número de lotes es de:  49\n",
            "El número de lotes es de:  49\n",
            "\u001b[1m49/49\u001b[0m \u001b[32m━━━━━━━━━━━━━━━━━━━━\u001b[0m\u001b[37m\u001b[0m \u001b[1m0s\u001b[0m 268ms/step - accuracy: 0.8826 - loss: 0.8790El número de lotes es de:  14\n",
            "El número de lotes es de:  14\n",
            "El número de lotes es de:  14\n",
            "\u001b[1m49/49\u001b[0m \u001b[32m━━━━━━━━━━━━━━━━━━━━\u001b[0m\u001b[37m\u001b[0m \u001b[1m17s\u001b[0m 339ms/step - accuracy: 0.8825 - loss: 0.8788 - val_accuracy: 0.8393 - val_loss: 0.9668\n",
            "Epoch 14/20\n",
            "El número de lotes es de:  49\n",
            "El número de lotes es de:  49\n",
            "\u001b[1m49/49\u001b[0m \u001b[32m━━━━━━━━━━━━━━━━━━━━\u001b[0m\u001b[37m\u001b[0m \u001b[1m0s\u001b[0m 258ms/step - accuracy: 0.8753 - loss: 0.8585El número de lotes es de:  14\n",
            "El número de lotes es de:  14\n",
            "El número de lotes es de:  14\n",
            "\u001b[1m49/49\u001b[0m \u001b[32m━━━━━━━━━━━━━━━━━━━━\u001b[0m\u001b[37m\u001b[0m \u001b[1m18s\u001b[0m 365ms/step - accuracy: 0.8751 - loss: 0.8590 - val_accuracy: 0.8504 - val_loss: 0.9347\n",
            "Epoch 15/20\n",
            "El número de lotes es de:  49\n",
            "El número de lotes es de:  49\n",
            "\u001b[1m49/49\u001b[0m \u001b[32m━━━━━━━━━━━━━━━━━━━━\u001b[0m\u001b[37m\u001b[0m \u001b[1m0s\u001b[0m 278ms/step - accuracy: 0.8800 - loss: 0.8513El número de lotes es de:  14\n",
            "El número de lotes es de:  14\n",
            "El número de lotes es de:  14\n",
            "\u001b[1m49/49\u001b[0m \u001b[32m━━━━━━━━━━━━━━━━━━━━\u001b[0m\u001b[37m\u001b[0m \u001b[1m17s\u001b[0m 352ms/step - accuracy: 0.8801 - loss: 0.8511 - val_accuracy: 0.8817 - val_loss: 0.8485\n",
            "Epoch 16/20\n",
            "El número de lotes es de:  49\n",
            "El número de lotes es de:  49\n",
            "\u001b[1m49/49\u001b[0m \u001b[32m━━━━━━━━━━━━━━━━━━━━\u001b[0m\u001b[37m\u001b[0m \u001b[1m0s\u001b[0m 263ms/step - accuracy: 0.8893 - loss: 0.7956El número de lotes es de:  14\n",
            "El número de lotes es de:  14\n",
            "El número de lotes es de:  14\n",
            "\u001b[1m49/49\u001b[0m \u001b[32m━━━━━━━━━━━━━━━━━━━━\u001b[0m\u001b[37m\u001b[0m \u001b[1m17s\u001b[0m 338ms/step - accuracy: 0.8890 - loss: 0.7962 - val_accuracy: 0.8795 - val_loss: 0.8711\n",
            "Epoch 17/20\n",
            "El número de lotes es de:  49\n",
            "El número de lotes es de:  49\n",
            "\u001b[1m49/49\u001b[0m \u001b[32m━━━━━━━━━━━━━━━━━━━━\u001b[0m\u001b[37m\u001b[0m \u001b[1m0s\u001b[0m 262ms/step - accuracy: 0.9053 - loss: 0.7646El número de lotes es de:  14\n",
            "El número de lotes es de:  14\n",
            "El número de lotes es de:  14\n",
            "\u001b[1m49/49\u001b[0m \u001b[32m━━━━━━━━━━━━━━━━━━━━\u001b[0m\u001b[37m\u001b[0m \u001b[1m18s\u001b[0m 369ms/step - accuracy: 0.9050 - loss: 0.7651 - val_accuracy: 0.8772 - val_loss: 0.8682\n",
            "Epoch 18/20\n",
            "El número de lotes es de:  49\n",
            "El número de lotes es de:  49\n",
            "\u001b[1m49/49\u001b[0m \u001b[32m━━━━━━━━━━━━━━━━━━━━\u001b[0m\u001b[37m\u001b[0m \u001b[1m0s\u001b[0m 308ms/step - accuracy: 0.9182 - loss: 0.7609El número de lotes es de:  14\n",
            "El número de lotes es de:  14\n",
            "El número de lotes es de:  14\n",
            "\u001b[1m49/49\u001b[0m \u001b[32m━━━━━━━━━━━━━━━━━━━━\u001b[0m\u001b[37m\u001b[0m \u001b[1m19s\u001b[0m 386ms/step - accuracy: 0.9176 - loss: 0.7618 - val_accuracy: 0.8929 - val_loss: 0.8493\n",
            "Epoch 19/20\n",
            "El número de lotes es de:  49\n",
            "El número de lotes es de:  49\n",
            "\u001b[1m49/49\u001b[0m \u001b[32m━━━━━━━━━━━━━━━━━━━━\u001b[0m\u001b[37m\u001b[0m \u001b[1m0s\u001b[0m 284ms/step - accuracy: 0.8958 - loss: 0.7715El número de lotes es de:  14\n",
            "El número de lotes es de:  14\n",
            "El número de lotes es de:  14\n",
            "\u001b[1m49/49\u001b[0m \u001b[32m━━━━━━━━━━━━━━━━━━━━\u001b[0m\u001b[37m\u001b[0m \u001b[1m17s\u001b[0m 356ms/step - accuracy: 0.8958 - loss: 0.7712 - val_accuracy: 0.8839 - val_loss: 0.8216\n",
            "Epoch 20/20\n",
            "El número de lotes es de:  49\n",
            "El número de lotes es de:  49\n",
            "\u001b[1m49/49\u001b[0m \u001b[32m━━━━━━━━━━━━━━━━━━━━\u001b[0m\u001b[37m\u001b[0m \u001b[1m0s\u001b[0m 272ms/step - accuracy: 0.9133 - loss: 0.7511El número de lotes es de:  14\n",
            "El número de lotes es de:  14\n",
            "El número de lotes es de:  14\n",
            "\u001b[1m49/49\u001b[0m \u001b[32m━━━━━━━━━━━━━━━━━━━━\u001b[0m\u001b[37m\u001b[0m \u001b[1m17s\u001b[0m 357ms/step - accuracy: 0.9133 - loss: 0.7511 - val_accuracy: 0.8795 - val_loss: 0.8228\n",
            "El número de lotes es de:  49\n",
            "El número de lotes es de:  49\n",
            "El número de lotes es de:  49\n",
            "Epoch 1/20\n",
            "El número de lotes es de:  49\n",
            "El número de lotes es de:  49\n",
            "\u001b[1m49/49\u001b[0m \u001b[32m━━━━━━━━━━━━━━━━━━━━\u001b[0m\u001b[37m\u001b[0m \u001b[1m0s\u001b[0m 276ms/step - accuracy: 0.3208 - loss: 6.5698El número de lotes es de:  14\n",
            "El número de lotes es de:  14\n",
            "El número de lotes es de:  14\n",
            "El número de lotes es de:  14\n",
            "El número de lotes es de:  14\n",
            "\u001b[1m49/49\u001b[0m \u001b[32m━━━━━━━━━━━━━━━━━━━━\u001b[0m\u001b[37m\u001b[0m \u001b[1m21s\u001b[0m 396ms/step - accuracy: 0.3208 - loss: 6.5409 - val_accuracy: 0.3259 - val_loss: 2.4235\n",
            "Epoch 2/20\n",
            "El número de lotes es de:  49\n",
            "El número de lotes es de:  49\n",
            "\u001b[1m49/49\u001b[0m \u001b[32m━━━━━━━━━━━━━━━━━━━━\u001b[0m\u001b[37m\u001b[0m \u001b[1m0s\u001b[0m 267ms/step - accuracy: 0.3421 - loss: 1.7309El número de lotes es de:  14\n",
            "El número de lotes es de:  14\n",
            "El número de lotes es de:  14\n",
            "\u001b[1m49/49\u001b[0m \u001b[32m━━━━━━━━━━━━━━━━━━━━\u001b[0m\u001b[37m\u001b[0m \u001b[1m17s\u001b[0m 347ms/step - accuracy: 0.3420 - loss: 1.7251 - val_accuracy: 0.3259 - val_loss: 1.1522\n",
            "Epoch 3/20\n",
            "El número de lotes es de:  49\n",
            "El número de lotes es de:  49\n",
            "\u001b[1m49/49\u001b[0m \u001b[32m━━━━━━━━━━━━━━━━━━━━\u001b[0m\u001b[37m\u001b[0m \u001b[1m0s\u001b[0m 273ms/step - accuracy: 0.3602 - loss: 1.1546El número de lotes es de:  14\n",
            "El número de lotes es de:  14\n",
            "El número de lotes es de:  14\n",
            "\u001b[1m49/49\u001b[0m \u001b[32m━━━━━━━━━━━━━━━━━━━━\u001b[0m\u001b[37m\u001b[0m \u001b[1m17s\u001b[0m 347ms/step - accuracy: 0.3600 - loss: 1.1546 - val_accuracy: 0.3259 - val_loss: 1.1866\n",
            "Epoch 4/20\n",
            "El número de lotes es de:  49\n",
            "El número de lotes es de:  49\n",
            "\u001b[1m49/49\u001b[0m \u001b[32m━━━━━━━━━━━━━━━━━━━━\u001b[0m\u001b[37m\u001b[0m \u001b[1m0s\u001b[0m 267ms/step - accuracy: 0.3139 - loss: 1.1632El número de lotes es de:  14\n",
            "El número de lotes es de:  14\n",
            "El número de lotes es de:  14\n",
            "\u001b[1m49/49\u001b[0m \u001b[32m━━━━━━━━━━━━━━━━━━━━\u001b[0m\u001b[37m\u001b[0m \u001b[1m18s\u001b[0m 373ms/step - accuracy: 0.3138 - loss: 1.1632 - val_accuracy: 0.3259 - val_loss: 1.1455\n",
            "Epoch 5/20\n",
            "El número de lotes es de:  49\n",
            "El número de lotes es de:  49\n",
            "\u001b[1m49/49\u001b[0m \u001b[32m━━━━━━━━━━━━━━━━━━━━\u001b[0m\u001b[37m\u001b[0m \u001b[1m0s\u001b[0m 270ms/step - accuracy: 0.3341 - loss: 1.1544El número de lotes es de:  14\n",
            "El número de lotes es de:  14\n",
            "El número de lotes es de:  14\n",
            "\u001b[1m49/49\u001b[0m \u001b[32m━━━━━━━━━━━━━━━━━━━━\u001b[0m\u001b[37m\u001b[0m \u001b[1m17s\u001b[0m 349ms/step - accuracy: 0.3344 - loss: 1.1543 - val_accuracy: 0.3549 - val_loss: 1.1454\n",
            "Epoch 6/20\n",
            "El número de lotes es de:  49\n",
            "El número de lotes es de:  49\n",
            "\u001b[1m49/49\u001b[0m \u001b[32m━━━━━━━━━━━━━━━━━━━━\u001b[0m\u001b[37m\u001b[0m \u001b[1m0s\u001b[0m 278ms/step - accuracy: 0.3777 - loss: 1.1410El número de lotes es de:  14\n",
            "El número de lotes es de:  14\n",
            "El número de lotes es de:  14\n",
            "\u001b[1m49/49\u001b[0m \u001b[32m━━━━━━━━━━━━━━━━━━━━\u001b[0m\u001b[37m\u001b[0m \u001b[1m17s\u001b[0m 351ms/step - accuracy: 0.3773 - loss: 1.1410 - val_accuracy: 0.3549 - val_loss: 1.1553\n",
            "Epoch 7/20\n",
            "El número de lotes es de:  49\n",
            "El número de lotes es de:  49\n",
            "\u001b[1m49/49\u001b[0m \u001b[32m━━━━━━━━━━━━━━━━━━━━\u001b[0m\u001b[37m\u001b[0m \u001b[1m0s\u001b[0m 266ms/step - accuracy: 0.3419 - loss: 1.1447El número de lotes es de:  14\n",
            "El número de lotes es de:  14\n",
            "El número de lotes es de:  14\n",
            "\u001b[1m49/49\u001b[0m \u001b[32m━━━━━━━━━━━━━━━━━━━━\u001b[0m\u001b[37m\u001b[0m \u001b[1m18s\u001b[0m 372ms/step - accuracy: 0.3419 - loss: 1.1447 - val_accuracy: 0.3549 - val_loss: 1.1378\n",
            "Epoch 8/20\n",
            "El número de lotes es de:  49\n",
            "El número de lotes es de:  49\n",
            "\u001b[1m49/49\u001b[0m \u001b[32m━━━━━━━━━━━━━━━━━━━━\u001b[0m\u001b[37m\u001b[0m \u001b[1m0s\u001b[0m 265ms/step - accuracy: 0.3262 - loss: 1.1461El número de lotes es de:  14\n",
            "El número de lotes es de:  14\n",
            "El número de lotes es de:  14\n",
            "\u001b[1m49/49\u001b[0m \u001b[32m━━━━━━━━━━━━━━━━━━━━\u001b[0m\u001b[37m\u001b[0m \u001b[1m19s\u001b[0m 342ms/step - accuracy: 0.3261 - loss: 1.1461 - val_accuracy: 0.3549 - val_loss: 1.1341\n",
            "Epoch 9/20\n",
            "El número de lotes es de:  49\n",
            "El número de lotes es de:  49\n",
            "\u001b[1m49/49\u001b[0m \u001b[32m━━━━━━━━━━━━━━━━━━━━\u001b[0m\u001b[37m\u001b[0m \u001b[1m0s\u001b[0m 275ms/step - accuracy: 0.3425 - loss: 1.1435El número de lotes es de:  14\n",
            "El número de lotes es de:  14\n",
            "El número de lotes es de:  14\n",
            "\u001b[1m49/49\u001b[0m \u001b[32m━━━━━━━━━━━━━━━━━━━━\u001b[0m\u001b[37m\u001b[0m \u001b[1m17s\u001b[0m 356ms/step - accuracy: 0.3425 - loss: 1.1435 - val_accuracy: 0.3259 - val_loss: 1.1469\n",
            "Epoch 10/20\n",
            "El número de lotes es de:  49\n",
            "El número de lotes es de:  49\n",
            "\u001b[1m49/49\u001b[0m \u001b[32m━━━━━━━━━━━━━━━━━━━━\u001b[0m\u001b[37m\u001b[0m \u001b[1m0s\u001b[0m 275ms/step - accuracy: 0.3091 - loss: 1.1449El número de lotes es de:  14\n",
            "El número de lotes es de:  14\n",
            "El número de lotes es de:  14\n",
            "\u001b[1m49/49\u001b[0m \u001b[32m━━━━━━━━━━━━━━━━━━━━\u001b[0m\u001b[37m\u001b[0m \u001b[1m18s\u001b[0m 360ms/step - accuracy: 0.3094 - loss: 1.1448 - val_accuracy: 0.3259 - val_loss: 1.1334\n",
            "Epoch 11/20\n",
            "El número de lotes es de:  49\n",
            "El número de lotes es de:  49\n",
            "\u001b[1m49/49\u001b[0m \u001b[32m━━━━━━━━━━━━━━━━━━━━\u001b[0m\u001b[37m\u001b[0m \u001b[1m0s\u001b[0m 262ms/step - accuracy: 0.3165 - loss: 1.1427El número de lotes es de:  14\n",
            "El número de lotes es de:  14\n",
            "El número de lotes es de:  14\n",
            "\u001b[1m49/49\u001b[0m \u001b[32m━━━━━━━━━━━━━━━━━━━━\u001b[0m\u001b[37m\u001b[0m \u001b[1m17s\u001b[0m 340ms/step - accuracy: 0.3169 - loss: 1.1426 - val_accuracy: 0.3549 - val_loss: 1.1442\n",
            "Epoch 12/20\n",
            "El número de lotes es de:  49\n",
            "El número de lotes es de:  49\n",
            "\u001b[1m49/49\u001b[0m \u001b[32m━━━━━━━━━━━━━━━━━━━━\u001b[0m\u001b[37m\u001b[0m \u001b[1m0s\u001b[0m 274ms/step - accuracy: 0.3226 - loss: 1.1371El número de lotes es de:  14\n",
            "El número de lotes es de:  14\n",
            "El número de lotes es de:  14\n",
            "\u001b[1m49/49\u001b[0m \u001b[32m━━━━━━━━━━━━━━━━━━━━\u001b[0m\u001b[37m\u001b[0m \u001b[1m17s\u001b[0m 349ms/step - accuracy: 0.3229 - loss: 1.1371 - val_accuracy: 0.3259 - val_loss: 1.1272\n",
            "Epoch 13/20\n",
            "El número de lotes es de:  49\n",
            "El número de lotes es de:  49\n",
            "\u001b[1m49/49\u001b[0m \u001b[32m━━━━━━━━━━━━━━━━━━━━\u001b[0m\u001b[37m\u001b[0m \u001b[1m0s\u001b[0m 275ms/step - accuracy: 0.3497 - loss: 1.1391El número de lotes es de:  14\n",
            "El número de lotes es de:  14\n",
            "El número de lotes es de:  14\n",
            "\u001b[1m49/49\u001b[0m \u001b[32m━━━━━━━━━━━━━━━━━━━━\u001b[0m\u001b[37m\u001b[0m \u001b[1m19s\u001b[0m 382ms/step - accuracy: 0.3497 - loss: 1.1391 - val_accuracy: 0.3259 - val_loss: 1.1286\n",
            "Epoch 14/20\n",
            "El número de lotes es de:  49\n",
            "El número de lotes es de:  49\n",
            "\u001b[1m49/49\u001b[0m \u001b[32m━━━━━━━━━━━━━━━━━━━━\u001b[0m\u001b[37m\u001b[0m \u001b[1m0s\u001b[0m 262ms/step - accuracy: 0.3402 - loss: 1.1312El número de lotes es de:  14\n",
            "El número de lotes es de:  14\n",
            "El número de lotes es de:  14\n",
            "\u001b[1m49/49\u001b[0m \u001b[32m━━━━━━━━━━━━━━━━━━━━\u001b[0m\u001b[37m\u001b[0m \u001b[1m17s\u001b[0m 341ms/step - accuracy: 0.3400 - loss: 1.1312 - val_accuracy: 0.3259 - val_loss: 1.1373\n",
            "Epoch 15/20\n",
            "El número de lotes es de:  49\n",
            "El número de lotes es de:  49\n",
            "\u001b[1m49/49\u001b[0m \u001b[32m━━━━━━━━━━━━━━━━━━━━\u001b[0m\u001b[37m\u001b[0m \u001b[1m0s\u001b[0m 261ms/step - accuracy: 0.3675 - loss: 1.1299El número de lotes es de:  14\n",
            "El número de lotes es de:  14\n",
            "El número de lotes es de:  14\n",
            "\u001b[1m49/49\u001b[0m \u001b[32m━━━━━━━━━━━━━━━━━━━━\u001b[0m\u001b[37m\u001b[0m \u001b[1m16s\u001b[0m 337ms/step - accuracy: 0.3674 - loss: 1.1299 - val_accuracy: 0.3549 - val_loss: 1.1254\n",
            "Epoch 16/20\n",
            "El número de lotes es de:  49\n",
            "El número de lotes es de:  49\n",
            "\u001b[1m49/49\u001b[0m \u001b[32m━━━━━━━━━━━━━━━━━━━━\u001b[0m\u001b[37m\u001b[0m \u001b[1m0s\u001b[0m 260ms/step - accuracy: 0.3537 - loss: 1.1247El número de lotes es de:  14\n",
            "El número de lotes es de:  14\n",
            "El número de lotes es de:  14\n",
            "\u001b[1m49/49\u001b[0m \u001b[32m━━━━━━━━━━━━━━━━━━━━\u001b[0m\u001b[37m\u001b[0m \u001b[1m21s\u001b[0m 343ms/step - accuracy: 0.3533 - loss: 1.1248 - val_accuracy: 0.3259 - val_loss: 1.1239\n",
            "Epoch 17/20\n",
            "El número de lotes es de:  49\n",
            "El número de lotes es de:  49\n",
            "\u001b[1m49/49\u001b[0m \u001b[32m━━━━━━━━━━━━━━━━━━━━\u001b[0m\u001b[37m\u001b[0m \u001b[1m0s\u001b[0m 275ms/step - accuracy: 0.3505 - loss: 1.1276El número de lotes es de:  14\n",
            "El número de lotes es de:  14\n",
            "El número de lotes es de:  14\n",
            "\u001b[1m49/49\u001b[0m \u001b[32m━━━━━━━━━━━━━━━━━━━━\u001b[0m\u001b[37m\u001b[0m \u001b[1m17s\u001b[0m 354ms/step - accuracy: 0.3502 - loss: 1.1276 - val_accuracy: 0.3549 - val_loss: 1.1190\n",
            "Epoch 18/20\n",
            "El número de lotes es de:  49\n",
            "El número de lotes es de:  49\n",
            "\u001b[1m49/49\u001b[0m \u001b[32m━━━━━━━━━━━━━━━━━━━━\u001b[0m\u001b[37m\u001b[0m \u001b[1m0s\u001b[0m 272ms/step - accuracy: 0.3204 - loss: 1.1300El número de lotes es de:  14\n",
            "El número de lotes es de:  14\n",
            "El número de lotes es de:  14\n",
            "\u001b[1m49/49\u001b[0m \u001b[32m━━━━━━━━━━━━━━━━━━━━\u001b[0m\u001b[37m\u001b[0m \u001b[1m17s\u001b[0m 344ms/step - accuracy: 0.3208 - loss: 1.1299 - val_accuracy: 0.3549 - val_loss: 1.1287\n",
            "Epoch 19/20\n",
            "El número de lotes es de:  49\n",
            "El número de lotes es de:  49\n",
            "\u001b[1m49/49\u001b[0m \u001b[32m━━━━━━━━━━━━━━━━━━━━\u001b[0m\u001b[37m\u001b[0m \u001b[1m0s\u001b[0m 261ms/step - accuracy: 0.3416 - loss: 1.1282El número de lotes es de:  14\n",
            "El número de lotes es de:  14\n",
            "El número de lotes es de:  14\n",
            "\u001b[1m49/49\u001b[0m \u001b[32m━━━━━━━━━━━━━━━━━━━━\u001b[0m\u001b[37m\u001b[0m \u001b[1m17s\u001b[0m 354ms/step - accuracy: 0.3414 - loss: 1.1282 - val_accuracy: 0.3549 - val_loss: 1.1159\n",
            "Epoch 20/20\n",
            "El número de lotes es de:  49\n",
            "El número de lotes es de:  49\n",
            "\u001b[1m49/49\u001b[0m \u001b[32m━━━━━━━━━━━━━━━━━━━━\u001b[0m\u001b[37m\u001b[0m \u001b[1m0s\u001b[0m 268ms/step - accuracy: 0.3329 - loss: 1.1236El número de lotes es de:  14\n",
            "El número de lotes es de:  14\n",
            "El número de lotes es de:  14\n",
            "\u001b[1m49/49\u001b[0m \u001b[32m━━━━━━━━━━━━━━━━━━━━\u001b[0m\u001b[37m\u001b[0m \u001b[1m17s\u001b[0m 343ms/step - accuracy: 0.3328 - loss: 1.1236 - val_accuracy: 0.3259 - val_loss: 1.1322\n",
            "El número de lotes es de:  49\n",
            "El número de lotes es de:  49\n",
            "El número de lotes es de:  49\n",
            "Epoch 1/20\n",
            "El número de lotes es de:  49\n",
            "El número de lotes es de:  49\n",
            "\u001b[1m49/49\u001b[0m \u001b[32m━━━━━━━━━━━━━━━━━━━━\u001b[0m\u001b[37m\u001b[0m \u001b[1m0s\u001b[0m 283ms/step - accuracy: 0.3073 - loss: 6.1073El número de lotes es de:  14\n",
            "El número de lotes es de:  14\n",
            "El número de lotes es de:  14\n",
            "El número de lotes es de:  14\n",
            "El número de lotes es de:  14\n",
            "\u001b[1m49/49\u001b[0m \u001b[32m━━━━━━━━━━━━━━━━━━━━\u001b[0m\u001b[37m\u001b[0m \u001b[1m21s\u001b[0m 403ms/step - accuracy: 0.3074 - loss: 6.0906 - val_accuracy: 0.3192 - val_loss: 2.9060\n",
            "Epoch 2/20\n",
            "El número de lotes es de:  49\n",
            "El número de lotes es de:  49\n",
            "\u001b[1m49/49\u001b[0m \u001b[32m━━━━━━━━━━━━━━━━━━━━\u001b[0m\u001b[37m\u001b[0m \u001b[1m0s\u001b[0m 271ms/step - accuracy: 0.2806 - loss: 2.3517El número de lotes es de:  14\n",
            "El número de lotes es de:  14\n",
            "El número de lotes es de:  14\n",
            "\u001b[1m49/49\u001b[0m \u001b[32m━━━━━━━━━━━━━━━━━━━━\u001b[0m\u001b[37m\u001b[0m \u001b[1m17s\u001b[0m 350ms/step - accuracy: 0.2815 - loss: 2.3438 - val_accuracy: 0.3192 - val_loss: 1.5631\n",
            "Epoch 3/20\n",
            "El número de lotes es de:  49\n",
            "El número de lotes es de:  49\n",
            "\u001b[1m49/49\u001b[0m \u001b[32m━━━━━━━━━━━━━━━━━━━━\u001b[0m\u001b[37m\u001b[0m \u001b[1m0s\u001b[0m 262ms/step - accuracy: 0.3335 - loss: 1.4887El número de lotes es de:  14\n",
            "El número de lotes es de:  14\n",
            "El número de lotes es de:  14\n",
            "\u001b[1m49/49\u001b[0m \u001b[32m━━━━━━━━━━━━━━━━━━━━\u001b[0m\u001b[37m\u001b[0m \u001b[1m16s\u001b[0m 337ms/step - accuracy: 0.3332 - loss: 1.4878 - val_accuracy: 0.3549 - val_loss: 1.3222\n",
            "Epoch 4/20\n",
            "El número de lotes es de:  49\n",
            "El número de lotes es de:  49\n",
            "\u001b[1m49/49\u001b[0m \u001b[32m━━━━━━━━━━━━━━━━━━━━\u001b[0m\u001b[37m\u001b[0m \u001b[1m0s\u001b[0m 258ms/step - accuracy: 0.3716 - loss: 1.3506El número de lotes es de:  14\n",
            "El número de lotes es de:  14\n",
            "El número de lotes es de:  14\n",
            "\u001b[1m49/49\u001b[0m \u001b[32m━━━━━━━━━━━━━━━━━━━━\u001b[0m\u001b[37m\u001b[0m \u001b[1m18s\u001b[0m 365ms/step - accuracy: 0.3716 - loss: 1.3512 - val_accuracy: 0.4062 - val_loss: 1.4403\n",
            "Epoch 5/20\n",
            "El número de lotes es de:  49\n",
            "El número de lotes es de:  49\n",
            "\u001b[1m49/49\u001b[0m \u001b[32m━━━━━━━━━━━━━━━━━━━━\u001b[0m\u001b[37m\u001b[0m \u001b[1m0s\u001b[0m 265ms/step - accuracy: 0.4725 - loss: 1.4884El número de lotes es de:  14\n",
            "El número de lotes es de:  14\n",
            "El número de lotes es de:  14\n",
            "\u001b[1m49/49\u001b[0m \u001b[32m━━━━━━━━━━━━━━━━━━━━\u001b[0m\u001b[37m\u001b[0m \u001b[1m17s\u001b[0m 343ms/step - accuracy: 0.4736 - loss: 1.4870 - val_accuracy: 0.6629 - val_loss: 1.2710\n",
            "Epoch 6/20\n",
            "El número de lotes es de:  49\n",
            "El número de lotes es de:  49\n",
            "\u001b[1m49/49\u001b[0m \u001b[32m━━━━━━━━━━━━━━━━━━━━\u001b[0m\u001b[37m\u001b[0m \u001b[1m0s\u001b[0m 268ms/step - accuracy: 0.6375 - loss: 1.2777El número de lotes es de:  14\n",
            "El número de lotes es de:  14\n",
            "El número de lotes es de:  14\n",
            "\u001b[1m49/49\u001b[0m \u001b[32m━━━━━━━━━━━━━━━━━━━━\u001b[0m\u001b[37m\u001b[0m \u001b[1m17s\u001b[0m 346ms/step - accuracy: 0.6382 - loss: 1.2768 - val_accuracy: 0.7969 - val_loss: 1.0699\n",
            "Epoch 7/20\n",
            "El número de lotes es de:  49\n",
            "El número de lotes es de:  49\n",
            "\u001b[1m49/49\u001b[0m \u001b[32m━━━━━━━━━━━━━━━━━━━━\u001b[0m\u001b[37m\u001b[0m \u001b[1m0s\u001b[0m 262ms/step - accuracy: 0.7850 - loss: 1.0439El número de lotes es de:  14\n",
            "El número de lotes es de:  14\n",
            "El número de lotes es de:  14\n",
            "\u001b[1m49/49\u001b[0m \u001b[32m━━━━━━━━━━━━━━━━━━━━\u001b[0m\u001b[37m\u001b[0m \u001b[1m16s\u001b[0m 336ms/step - accuracy: 0.7848 - loss: 1.0442 - val_accuracy: 0.8438 - val_loss: 0.9620\n",
            "Epoch 8/20\n",
            "El número de lotes es de:  49\n",
            "El número de lotes es de:  49\n",
            "\u001b[1m49/49\u001b[0m \u001b[32m━━━━━━━━━━━━━━━━━━━━\u001b[0m\u001b[37m\u001b[0m \u001b[1m0s\u001b[0m 260ms/step - accuracy: 0.8397 - loss: 0.8996El número de lotes es de:  14\n",
            "El número de lotes es de:  14\n",
            "El número de lotes es de:  14\n",
            "\u001b[1m49/49\u001b[0m \u001b[32m━━━━━━━━━━━━━━━━━━━━\u001b[0m\u001b[37m\u001b[0m \u001b[1m20s\u001b[0m 334ms/step - accuracy: 0.8394 - loss: 0.9003 - val_accuracy: 0.7857 - val_loss: 1.0458\n",
            "Epoch 9/20\n",
            "El número de lotes es de:  49\n",
            "El número de lotes es de:  49\n",
            "\u001b[1m49/49\u001b[0m \u001b[32m━━━━━━━━━━━━━━━━━━━━\u001b[0m\u001b[37m\u001b[0m \u001b[1m0s\u001b[0m 261ms/step - accuracy: 0.8485 - loss: 0.8910El número de lotes es de:  14\n",
            "El número de lotes es de:  14\n",
            "El número de lotes es de:  14\n",
            "\u001b[1m49/49\u001b[0m \u001b[32m━━━━━━━━━━━━━━━━━━━━\u001b[0m\u001b[37m\u001b[0m \u001b[1m21s\u001b[0m 348ms/step - accuracy: 0.8485 - loss: 0.8906 - val_accuracy: 0.8728 - val_loss: 0.8458\n",
            "Epoch 10/20\n",
            "El número de lotes es de:  49\n",
            "El número de lotes es de:  49\n",
            "\u001b[1m49/49\u001b[0m \u001b[32m━━━━━━━━━━━━━━━━━━━━\u001b[0m\u001b[37m\u001b[0m \u001b[1m0s\u001b[0m 281ms/step - accuracy: 0.8742 - loss: 0.8072El número de lotes es de:  14\n",
            "El número de lotes es de:  14\n",
            "El número de lotes es de:  14\n",
            "\u001b[1m49/49\u001b[0m \u001b[32m━━━━━━━━━━━━━━━━━━━━\u001b[0m\u001b[37m\u001b[0m \u001b[1m17s\u001b[0m 355ms/step - accuracy: 0.8739 - loss: 0.8079 - val_accuracy: 0.8906 - val_loss: 0.8337\n",
            "Epoch 11/20\n",
            "El número de lotes es de:  49\n",
            "El número de lotes es de:  49\n",
            "\u001b[1m49/49\u001b[0m \u001b[32m━━━━━━━━━━━━━━━━━━━━\u001b[0m\u001b[37m\u001b[0m \u001b[1m0s\u001b[0m 321ms/step - accuracy: 0.8894 - loss: 0.7663El número de lotes es de:  14\n",
            "El número de lotes es de:  14\n",
            "El número de lotes es de:  14\n",
            "\u001b[1m49/49\u001b[0m \u001b[32m━━━━━━━━━━━━━━━━━━━━\u001b[0m\u001b[37m\u001b[0m \u001b[1m19s\u001b[0m 399ms/step - accuracy: 0.8893 - loss: 0.7665 - val_accuracy: 0.8973 - val_loss: 0.7904\n",
            "Epoch 12/20\n",
            "El número de lotes es de:  49\n",
            "El número de lotes es de:  49\n",
            "\u001b[1m49/49\u001b[0m \u001b[32m━━━━━━━━━━━━━━━━━━━━\u001b[0m\u001b[37m\u001b[0m \u001b[1m0s\u001b[0m 273ms/step - accuracy: 0.8989 - loss: 0.7110El número de lotes es de:  14\n",
            "El número de lotes es de:  14\n",
            "El número de lotes es de:  14\n",
            "\u001b[1m49/49\u001b[0m \u001b[32m━━━━━━━━━━━━━━━━━━━━\u001b[0m\u001b[37m\u001b[0m \u001b[1m18s\u001b[0m 359ms/step - accuracy: 0.8986 - loss: 0.7117 - val_accuracy: 0.8929 - val_loss: 0.7483\n",
            "Epoch 13/20\n",
            "El número de lotes es de:  49\n",
            "El número de lotes es de:  49\n",
            "\u001b[1m49/49\u001b[0m \u001b[32m━━━━━━━━━━━━━━━━━━━━\u001b[0m\u001b[37m\u001b[0m \u001b[1m0s\u001b[0m 263ms/step - accuracy: 0.8844 - loss: 0.7605El número de lotes es de:  14\n",
            "El número de lotes es de:  14\n",
            "El número de lotes es de:  14\n",
            "\u001b[1m49/49\u001b[0m \u001b[32m━━━━━━━━━━━━━━━━━━━━\u001b[0m\u001b[37m\u001b[0m \u001b[1m18s\u001b[0m 369ms/step - accuracy: 0.8847 - loss: 0.7596 - val_accuracy: 0.8728 - val_loss: 0.7809\n",
            "Epoch 14/20\n",
            "El número de lotes es de:  49\n",
            "El número de lotes es de:  49\n",
            "\u001b[1m49/49\u001b[0m \u001b[32m━━━━━━━━━━━━━━━━━━━━\u001b[0m\u001b[37m\u001b[0m \u001b[1m0s\u001b[0m 271ms/step - accuracy: 0.9298 - loss: 0.6342El número de lotes es de:  14\n",
            "El número de lotes es de:  14\n",
            "El número de lotes es de:  14\n",
            "\u001b[1m49/49\u001b[0m \u001b[32m━━━━━━━━━━━━━━━━━━━━\u001b[0m\u001b[37m\u001b[0m \u001b[1m17s\u001b[0m 348ms/step - accuracy: 0.9294 - loss: 0.6349 - val_accuracy: 0.8996 - val_loss: 0.7335\n",
            "Epoch 15/20\n",
            "El número de lotes es de:  49\n",
            "El número de lotes es de:  49\n",
            "\u001b[1m49/49\u001b[0m \u001b[32m━━━━━━━━━━━━━━━━━━━━\u001b[0m\u001b[37m\u001b[0m \u001b[1m0s\u001b[0m 259ms/step - accuracy: 0.9210 - loss: 0.6459El número de lotes es de:  14\n",
            "El número de lotes es de:  14\n",
            "El número de lotes es de:  14\n",
            "\u001b[1m49/49\u001b[0m \u001b[32m━━━━━━━━━━━━━━━━━━━━\u001b[0m\u001b[37m\u001b[0m \u001b[1m18s\u001b[0m 366ms/step - accuracy: 0.9207 - loss: 0.6465 - val_accuracy: 0.8795 - val_loss: 0.8074\n",
            "Epoch 16/20\n",
            "El número de lotes es de:  49\n",
            "El número de lotes es de:  49\n",
            "\u001b[1m49/49\u001b[0m \u001b[32m━━━━━━━━━━━━━━━━━━━━\u001b[0m\u001b[37m\u001b[0m \u001b[1m0s\u001b[0m 273ms/step - accuracy: 0.9290 - loss: 0.6048El número de lotes es de:  14\n",
            "El número de lotes es de:  14\n",
            "El número de lotes es de:  14\n",
            "\u001b[1m49/49\u001b[0m \u001b[32m━━━━━━━━━━━━━━━━━━━━\u001b[0m\u001b[37m\u001b[0m \u001b[1m17s\u001b[0m 347ms/step - accuracy: 0.9290 - loss: 0.6047 - val_accuracy: 0.9152 - val_loss: 0.6662\n",
            "Epoch 17/20\n",
            "El número de lotes es de:  49\n",
            "El número de lotes es de:  49\n",
            "\u001b[1m49/49\u001b[0m \u001b[32m━━━━━━━━━━━━━━━━━━━━\u001b[0m\u001b[37m\u001b[0m \u001b[1m0s\u001b[0m 275ms/step - accuracy: 0.9206 - loss: 0.5922El número de lotes es de:  14\n",
            "El número de lotes es de:  14\n",
            "El número de lotes es de:  14\n",
            "\u001b[1m49/49\u001b[0m \u001b[32m━━━━━━━━━━━━━━━━━━━━\u001b[0m\u001b[37m\u001b[0m \u001b[1m17s\u001b[0m 348ms/step - accuracy: 0.9207 - loss: 0.5919 - val_accuracy: 0.8973 - val_loss: 0.6119\n",
            "Epoch 18/20\n",
            "El número de lotes es de:  49\n",
            "El número de lotes es de:  49\n",
            "\u001b[1m49/49\u001b[0m \u001b[32m━━━━━━━━━━━━━━━━━━━━\u001b[0m\u001b[37m\u001b[0m \u001b[1m0s\u001b[0m 267ms/step - accuracy: 0.9250 - loss: 0.5569El número de lotes es de:  14\n",
            "El número de lotes es de:  14\n",
            "El número de lotes es de:  14\n",
            "\u001b[1m49/49\u001b[0m \u001b[32m━━━━━━━━━━━━━━━━━━━━\u001b[0m\u001b[37m\u001b[0m \u001b[1m17s\u001b[0m 351ms/step - accuracy: 0.9251 - loss: 0.5567 - val_accuracy: 0.8527 - val_loss: 0.7354\n",
            "Epoch 19/20\n",
            "El número de lotes es de:  49\n",
            "El número de lotes es de:  49\n",
            "\u001b[1m49/49\u001b[0m \u001b[32m━━━━━━━━━━━━━━━━━━━━\u001b[0m\u001b[37m\u001b[0m \u001b[1m0s\u001b[0m 255ms/step - accuracy: 0.9268 - loss: 0.5781El número de lotes es de:  14\n",
            "El número de lotes es de:  14\n",
            "El número de lotes es de:  14\n",
            "\u001b[1m49/49\u001b[0m \u001b[32m━━━━━━━━━━━━━━━━━━━━\u001b[0m\u001b[37m\u001b[0m \u001b[1m16s\u001b[0m 332ms/step - accuracy: 0.9270 - loss: 0.5772 - val_accuracy: 0.9263 - val_loss: 0.5796\n",
            "Epoch 20/20\n",
            "El número de lotes es de:  49\n",
            "El número de lotes es de:  49\n",
            "\u001b[1m49/49\u001b[0m \u001b[32m━━━━━━━━━━━━━━━━━━━━\u001b[0m\u001b[37m\u001b[0m \u001b[1m0s\u001b[0m 268ms/step - accuracy: 0.9386 - loss: 0.5092El número de lotes es de:  14\n",
            "El número de lotes es de:  14\n",
            "El número de lotes es de:  14\n",
            "\u001b[1m49/49\u001b[0m \u001b[32m━━━━━━━━━━━━━━━━━━━━\u001b[0m\u001b[37m\u001b[0m \u001b[1m17s\u001b[0m 343ms/step - accuracy: 0.9386 - loss: 0.5093 - val_accuracy: 0.9152 - val_loss: 0.6048\n",
            "El número de lotes es de:  7\n",
            "El número de lotes es de:  7\n",
            "El número de lotes es de:  7\n",
            "El número de lotes es de:  7\n",
            "El número de lotes es de:  7\n",
            "El número de lotes es de:  7\n",
            "El número de lotes es de:  7\n",
            "El número de lotes es de:  7\n",
            "El número de lotes es de:  7\n",
            "El número de lotes es de:  7\n",
            "El número de lotes es de:  7\n",
            "El número de lotes es de:  7\n",
            "El número de lotes es de:  7\n",
            "El número de lotes es de:  7\n",
            "El número de lotes es de:  7\n",
            "El número de lotes es de:  7\n",
            "El número de lotes es de:  7\n",
            "El número de lotes es de:  7\n",
            "El número de lotes es de:  7\n",
            "El número de lotes es de:  7\n",
            "Original -> Loss: 1.1043, Accuracy: 0.3529\n",
            "L1 -> Loss: 0.7506, Accuracy: 0.9095\n",
            "L2 -> Loss: 1.1329, Accuracy: 0.3258\n",
            "L1+L2 -> Loss: 0.5401, Accuracy: 0.9321\n"
          ]
        }
      ]
    },
    {
      "cell_type": "markdown",
      "source": [
        "Elegir una regularización correcta, es crucial, en este casó la mejor opción es utilizar las dos opciones. Aún así, detacamos que la regularización *Lasso* es la que más aporta, por lo que podemos destacar que nuestro dataset se se beneficiaba más de la selección de características que de reducir magnitudes de pesos.\n",
        "\n",
        "A continuación, pasaremos expandir los datos de forma artificial con el fin de que generealice mejor. De esta forma, en cada batch se generen imágenes ligeramente modificadas, por lo que el modelo nunca ve dos veces exactamente el mismo dato. Previamente, deberemos convertir los arrays de nuestras imagenes, es decir, las direcciones, por arrays de imagenes, tipo float32."
      ],
      "metadata": {
        "id": "w7viPgmmgAKS"
      }
    },
    {
      "cell_type": "code",
      "source": [
        "from tensorflow.keras import models, layers, optimizers, regularizers\n",
        "from tensorflow.keras.preprocessing.image import ImageDataGenerator\n",
        "from tensorflow.keras.utils import load_img, img_to_array\n",
        "import numpy as np\n",
        "\n",
        "def load_images(file_paths, target_size=(128,192)):\n",
        "    images = []\n",
        "    for path in file_paths:\n",
        "        img = load_img(path, target_size=target_size)\n",
        "        img_array = img_to_array(img) / 255.0\n",
        "        images.append(img_array)\n",
        "    return np.array(images, dtype=\"float32\")\n",
        "\n",
        "X_train_arr = load_images(X_train)\n",
        "X_val_arr   = load_images(X_val)\n",
        "\n",
        "datagen = ImageDataGenerator(\n",
        "    rotation_range=20,\n",
        "    width_shift_range=0.1,\n",
        "    height_shift_range=0.1,\n",
        "    zoom_range=0.2,\n",
        "    horizontal_flip=True,\n",
        "    fill_mode='nearest'\n",
        ")\n",
        "\n",
        "model = models.Sequential([\n",
        "    layers.Conv2D(16, (3,3), activation='relu', input_shape=(128,192,3)),\n",
        "    layers.MaxPooling2D((2,2)),\n",
        "    layers.Flatten(),\n",
        "    layers.Dense(128, activation='relu'),\n",
        "    layers.Dense(3, activation='softmax')\n",
        "])\n",
        "\n",
        "model.compile(\n",
        "    optimizer=optimizers.Adam(),\n",
        "    loss='sparse_categorical_crossentropy',\n",
        "    metrics=['accuracy']\n",
        ")\n",
        "\n",
        "\n",
        "history = model.fit(\n",
        "    datagen.flow(X_train_arr, y_train, batch_size=8),\n",
        "    validation_data=(X_val_arr, y_val),\n",
        "    epochs=20\n",
        ")"
      ],
      "metadata": {
        "id": "kDv8p5LHKUKs",
        "colab": {
          "base_uri": "https://localhost:8080/"
        },
        "outputId": "4f0b465e-d6a6-4322-cc53-2b44ce3c67a2"
      },
      "execution_count": 19,
      "outputs": [
        {
          "output_type": "stream",
          "name": "stdout",
          "text": [
            "Epoch 1/20\n",
            "\u001b[1m195/195\u001b[0m \u001b[32m━━━━━━━━━━━━━━━━━━━━\u001b[0m\u001b[37m\u001b[0m \u001b[1m15s\u001b[0m 63ms/step - accuracy: 0.4518 - loss: 2.1686 - val_accuracy: 0.4286 - val_loss: 0.9373\n",
            "Epoch 2/20\n",
            "\u001b[1m195/195\u001b[0m \u001b[32m━━━━━━━━━━━━━━━━━━━━\u001b[0m\u001b[37m\u001b[0m \u001b[1m10s\u001b[0m 51ms/step - accuracy: 0.6890 - loss: 0.7594 - val_accuracy: 0.6853 - val_loss: 0.6675\n",
            "Epoch 3/20\n",
            "\u001b[1m195/195\u001b[0m \u001b[32m━━━━━━━━━━━━━━━━━━━━\u001b[0m\u001b[37m\u001b[0m \u001b[1m9s\u001b[0m 43ms/step - accuracy: 0.7637 - loss: 0.6083 - val_accuracy: 0.9040 - val_loss: 0.3431\n",
            "Epoch 4/20\n",
            "\u001b[1m195/195\u001b[0m \u001b[32m━━━━━━━━━━━━━━━━━━━━\u001b[0m\u001b[37m\u001b[0m \u001b[1m10s\u001b[0m 50ms/step - accuracy: 0.8261 - loss: 0.4840 - val_accuracy: 0.7835 - val_loss: 0.5119\n",
            "Epoch 5/20\n",
            "\u001b[1m195/195\u001b[0m \u001b[32m━━━━━━━━━━━━━━━━━━━━\u001b[0m\u001b[37m\u001b[0m \u001b[1m10s\u001b[0m 50ms/step - accuracy: 0.8064 - loss: 0.5319 - val_accuracy: 0.9241 - val_loss: 0.2561\n",
            "Epoch 6/20\n",
            "\u001b[1m195/195\u001b[0m \u001b[32m━━━━━━━━━━━━━━━━━━━━\u001b[0m\u001b[37m\u001b[0m \u001b[1m8s\u001b[0m 42ms/step - accuracy: 0.8705 - loss: 0.3421 - val_accuracy: 0.9286 - val_loss: 0.2222\n",
            "Epoch 7/20\n",
            "\u001b[1m195/195\u001b[0m \u001b[32m━━━━━━━━━━━━━━━━━━━━\u001b[0m\u001b[37m\u001b[0m \u001b[1m10s\u001b[0m 50ms/step - accuracy: 0.8789 - loss: 0.3039 - val_accuracy: 0.9487 - val_loss: 0.1844\n",
            "Epoch 8/20\n",
            "\u001b[1m195/195\u001b[0m \u001b[32m━━━━━━━━━━━━━━━━━━━━\u001b[0m\u001b[37m\u001b[0m \u001b[1m10s\u001b[0m 50ms/step - accuracy: 0.9040 - loss: 0.2772 - val_accuracy: 0.9509 - val_loss: 0.1654\n",
            "Epoch 9/20\n",
            "\u001b[1m195/195\u001b[0m \u001b[32m━━━━━━━━━━━━━━━━━━━━\u001b[0m\u001b[37m\u001b[0m \u001b[1m9s\u001b[0m 44ms/step - accuracy: 0.9001 - loss: 0.2608 - val_accuracy: 0.9621 - val_loss: 0.1515\n",
            "Epoch 10/20\n",
            "\u001b[1m195/195\u001b[0m \u001b[32m━━━━━━━━━━━━━━━━━━━━\u001b[0m\u001b[37m\u001b[0m \u001b[1m10s\u001b[0m 42ms/step - accuracy: 0.9129 - loss: 0.2373 - val_accuracy: 0.9397 - val_loss: 0.1819\n",
            "Epoch 11/20\n",
            "\u001b[1m195/195\u001b[0m \u001b[32m━━━━━━━━━━━━━━━━━━━━\u001b[0m\u001b[37m\u001b[0m \u001b[1m10s\u001b[0m 50ms/step - accuracy: 0.9081 - loss: 0.2648 - val_accuracy: 0.9576 - val_loss: 0.1294\n",
            "Epoch 12/20\n",
            "\u001b[1m195/195\u001b[0m \u001b[32m━━━━━━━━━━━━━━━━━━━━\u001b[0m\u001b[37m\u001b[0m \u001b[1m10s\u001b[0m 50ms/step - accuracy: 0.9221 - loss: 0.2213 - val_accuracy: 0.9241 - val_loss: 0.2446\n",
            "Epoch 13/20\n",
            "\u001b[1m195/195\u001b[0m \u001b[32m━━━━━━━━━━━━━━━━━━━━\u001b[0m\u001b[37m\u001b[0m \u001b[1m8s\u001b[0m 42ms/step - accuracy: 0.9304 - loss: 0.2007 - val_accuracy: 0.9598 - val_loss: 0.1147\n",
            "Epoch 14/20\n",
            "\u001b[1m195/195\u001b[0m \u001b[32m━━━━━━━━━━━━━━━━━━━━\u001b[0m\u001b[37m\u001b[0m \u001b[1m10s\u001b[0m 50ms/step - accuracy: 0.9443 - loss: 0.1967 - val_accuracy: 0.9598 - val_loss: 0.1148\n",
            "Epoch 15/20\n",
            "\u001b[1m195/195\u001b[0m \u001b[32m━━━━━━━━━━━━━━━━━━━━\u001b[0m\u001b[37m\u001b[0m \u001b[1m10s\u001b[0m 51ms/step - accuracy: 0.9364 - loss: 0.1879 - val_accuracy: 0.9308 - val_loss: 0.2136\n",
            "Epoch 16/20\n",
            "\u001b[1m195/195\u001b[0m \u001b[32m━━━━━━━━━━━━━━━━━━━━\u001b[0m\u001b[37m\u001b[0m \u001b[1m9s\u001b[0m 45ms/step - accuracy: 0.9342 - loss: 0.1716 - val_accuracy: 0.9643 - val_loss: 0.1023\n",
            "Epoch 17/20\n",
            "\u001b[1m195/195\u001b[0m \u001b[32m━━━━━━━━━━━━━━━━━━━━\u001b[0m\u001b[37m\u001b[0m \u001b[1m10s\u001b[0m 42ms/step - accuracy: 0.9257 - loss: 0.2057 - val_accuracy: 0.9621 - val_loss: 0.1110\n",
            "Epoch 18/20\n",
            "\u001b[1m195/195\u001b[0m \u001b[32m━━━━━━━━━━━━━━━━━━━━\u001b[0m\u001b[37m\u001b[0m \u001b[1m10s\u001b[0m 50ms/step - accuracy: 0.9519 - loss: 0.1561 - val_accuracy: 0.9174 - val_loss: 0.2685\n",
            "Epoch 19/20\n",
            "\u001b[1m195/195\u001b[0m \u001b[32m━━━━━━━━━━━━━━━━━━━━\u001b[0m\u001b[37m\u001b[0m \u001b[1m10s\u001b[0m 49ms/step - accuracy: 0.9348 - loss: 0.2131 - val_accuracy: 0.9710 - val_loss: 0.1074\n",
            "Epoch 20/20\n",
            "\u001b[1m195/195\u001b[0m \u001b[32m━━━━━━━━━━━━━━━━━━━━\u001b[0m\u001b[37m\u001b[0m \u001b[1m8s\u001b[0m 42ms/step - accuracy: 0.9341 - loss: 0.1877 - val_accuracy: 0.9353 - val_loss: 0.1905\n"
          ]
        }
      ]
    },
    {
      "cell_type": "markdown",
      "source": [
        "Por último, aplicaremos las técnica de transferencia del conocimiento que a traves de modelos ya preentrenados, es decir que no parten de 0, se entrena con ciertos modelos ya que saben reconocer bordes, texturas... Previamente, deberemos redimiensarional ya que funciona MobileNetV2 con iamgenes cuadradas."
      ],
      "metadata": {
        "id": "ZRgUPF-Xgqi8"
      }
    },
    {
      "cell_type": "code",
      "source": [
        "from tensorflow.keras.applications import MobileNetV2\n",
        "from tensorflow.keras import models, layers, optimizers\n",
        "\n",
        "\n",
        "X_train_arr = load_images(X_train, target_size=(160,160))\n",
        "X_val_arr   = load_images(X_val, target_size=(160,160))\n",
        "\n",
        "base_model = MobileNetV2(weights='imagenet', include_top=False, input_shape=(160,160,3))\n",
        "base_model.trainable = False\n",
        "\n",
        "transfer_model = models.Sequential([\n",
        "    base_model,\n",
        "    layers.GlobalAveragePooling2D(),\n",
        "    layers.Dense(128, activation='relu'),\n",
        "    layers.Dropout(0.5),\n",
        "    layers.Dense(3, activation='softmax')\n",
        "])\n",
        "\n",
        "transfer_model.compile(\n",
        "    optimizer=optimizers.Adam(learning_rate=1e-3),\n",
        "    loss='sparse_categorical_crossentropy',\n",
        "    metrics=['accuracy']\n",
        ")\n",
        "\n",
        "history_tl = transfer_model.fit(\n",
        "    datagen.flow(X_train_arr, y_train, batch_size=10),\n",
        "    validation_data=(X_val_arr, y_val),\n",
        "    epochs=10\n",
        ")\n",
        "\n",
        "val_loss, val_acc = transfer_model.evaluate(X_val_arr, y_val, verbose=0)\n",
        "print(f\"Transfer Learning -> Loss: {val_loss:.4f}, Accuracy: {val_acc:.4f}\")"
      ],
      "metadata": {
        "id": "q_yoSBKsI0ZV",
        "colab": {
          "base_uri": "https://localhost:8080/"
        },
        "outputId": "53ed87f0-934a-4d8b-943d-69e9cc1c447d"
      },
      "execution_count": 22,
      "outputs": [
        {
          "output_type": "stream",
          "name": "stdout",
          "text": [
            "Downloading data from https://storage.googleapis.com/tensorflow/keras-applications/mobilenet_v2/mobilenet_v2_weights_tf_dim_ordering_tf_kernels_1.0_160_no_top.h5\n",
            "\u001b[1m9406464/9406464\u001b[0m \u001b[32m━━━━━━━━━━━━━━━━━━━━\u001b[0m\u001b[37m\u001b[0m \u001b[1m0s\u001b[0m 0us/step\n",
            "Epoch 1/10\n",
            "\u001b[1m156/156\u001b[0m \u001b[32m━━━━━━━━━━━━━━━━━━━━\u001b[0m\u001b[37m\u001b[0m \u001b[1m51s\u001b[0m 223ms/step - accuracy: 0.7987 - loss: 0.5079 - val_accuracy: 0.9777 - val_loss: 0.0579\n",
            "Epoch 2/10\n",
            "\u001b[1m156/156\u001b[0m \u001b[32m━━━━━━━━━━━━━━━━━━━━\u001b[0m\u001b[37m\u001b[0m \u001b[1m11s\u001b[0m 69ms/step - accuracy: 0.9728 - loss: 0.1019 - val_accuracy: 0.9911 - val_loss: 0.0244\n",
            "Epoch 3/10\n",
            "\u001b[1m156/156\u001b[0m \u001b[32m━━━━━━━━━━━━━━━━━━━━\u001b[0m\u001b[37m\u001b[0m \u001b[1m10s\u001b[0m 67ms/step - accuracy: 0.9872 - loss: 0.0346 - val_accuracy: 0.9888 - val_loss: 0.0313\n",
            "Epoch 4/10\n",
            "\u001b[1m156/156\u001b[0m \u001b[32m━━━━━━━━━━━━━━━━━━━━\u001b[0m\u001b[37m\u001b[0m \u001b[1m10s\u001b[0m 62ms/step - accuracy: 0.9913 - loss: 0.0344 - val_accuracy: 0.9911 - val_loss: 0.0241\n",
            "Epoch 5/10\n",
            "\u001b[1m156/156\u001b[0m \u001b[32m━━━━━━━━━━━━━━━━━━━━\u001b[0m\u001b[37m\u001b[0m \u001b[1m10s\u001b[0m 63ms/step - accuracy: 0.9928 - loss: 0.0279 - val_accuracy: 0.9933 - val_loss: 0.0227\n",
            "Epoch 6/10\n",
            "\u001b[1m156/156\u001b[0m \u001b[32m━━━━━━━━━━━━━━━━━━━━\u001b[0m\u001b[37m\u001b[0m \u001b[1m11s\u001b[0m 70ms/step - accuracy: 0.9906 - loss: 0.0333 - val_accuracy: 0.9955 - val_loss: 0.0335\n",
            "Epoch 7/10\n",
            "\u001b[1m156/156\u001b[0m \u001b[32m━━━━━━━━━━━━━━━━━━━━\u001b[0m\u001b[37m\u001b[0m \u001b[1m11s\u001b[0m 68ms/step - accuracy: 0.9854 - loss: 0.0413 - val_accuracy: 0.9978 - val_loss: 0.0212\n",
            "Epoch 8/10\n",
            "\u001b[1m156/156\u001b[0m \u001b[32m━━━━━━━━━━━━━━━━━━━━\u001b[0m\u001b[37m\u001b[0m \u001b[1m10s\u001b[0m 67ms/step - accuracy: 0.9915 - loss: 0.0259 - val_accuracy: 0.9978 - val_loss: 0.0343\n",
            "Epoch 9/10\n",
            "\u001b[1m156/156\u001b[0m \u001b[32m━━━━━━━━━━━━━━━━━━━━\u001b[0m\u001b[37m\u001b[0m \u001b[1m20s\u001b[0m 64ms/step - accuracy: 0.9896 - loss: 0.0216 - val_accuracy: 0.9978 - val_loss: 0.0195\n",
            "Epoch 10/10\n",
            "\u001b[1m156/156\u001b[0m \u001b[32m━━━━━━━━━━━━━━━━━━━━\u001b[0m\u001b[37m\u001b[0m \u001b[1m11s\u001b[0m 69ms/step - accuracy: 0.9868 - loss: 0.0273 - val_accuracy: 0.9978 - val_loss: 0.0159\n",
            "Transfer Learning -> Loss: 0.0159, Accuracy: 0.9978\n"
          ]
        }
      ]
    },
    {
      "cell_type": "markdown",
      "source": [
        "Nuestro modelo pareece ser bueno, puesto que ha llegado a una predicción de 99%. Previamente, con CNN llegaba a 93%. Sin embargo, ahora tras aplicarle transfer learning hemos conseguido mejorarlo.\n"
      ],
      "metadata": {
        "id": "K_i2ys18zkwt"
      }
    },
    {
      "cell_type": "markdown",
      "source": [
        "Una vez desarrollados todos los modelos, los compararemos."
      ],
      "metadata": {
        "id": "Q8cKKLr8xCaf"
      }
    },
    {
      "cell_type": "code",
      "source": [
        "from sklearn.metrics import classification_report, confusion_matrix\n",
        "import seaborn as sns\n",
        "import matplotlib.pyplot as plt\n",
        "import numpy as np\n",
        "\n",
        "y_pred = np.argmax(transfer_model.predict(X_val_arr), axis=1)\n",
        "\n",
        "print(classification_report(y_val, y_pred, target_names=[\"Rock\",\"Paper\",\"Scissors\"]))\n",
        "\n",
        "cm = confusion_matrix(y_val, y_pred)\n",
        "sns.heatmap(cm, annot=True, fmt=\"d\", cmap=\"Blues\", xticklabels=[\"Rock\",\"Paper\",\"Scissors\"], yticklabels=[\"Rock\",\"Paper\",\"Scissors\"])\n",
        "plt.xlabel(\"Predicción\")\n",
        "plt.ylabel(\"Real\")\n",
        "plt.show()\n"
      ],
      "metadata": {
        "id": "ytmrHIsj4LF2",
        "colab": {
          "base_uri": "https://localhost:8080/",
          "height": 636
        },
        "outputId": "2b608339-ea77-4db1-e82b-aeb88be02d5a"
      },
      "execution_count": 23,
      "outputs": [
        {
          "output_type": "stream",
          "name": "stdout",
          "text": [
            "\u001b[1m14/14\u001b[0m \u001b[32m━━━━━━━━━━━━━━━━━━━━\u001b[0m\u001b[37m\u001b[0m \u001b[1m11s\u001b[0m 23ms/step\n",
            "              precision    recall  f1-score   support\n",
            "\n",
            "        Rock       0.99      1.00      1.00       146\n",
            "       Paper       1.00      0.99      1.00       143\n",
            "    Scissors       1.00      1.00      1.00       159\n",
            "\n",
            "    accuracy                           1.00       448\n",
            "   macro avg       1.00      1.00      1.00       448\n",
            "weighted avg       1.00      1.00      1.00       448\n",
            "\n"
          ]
        },
        {
          "output_type": "display_data",
          "data": {
            "text/plain": [
              "<Figure size 640x480 with 2 Axes>"
            ],
            "image/png": "[encoded data removed]"
          },
          "metadata": {}
        }
      ]
    }
  ]
}